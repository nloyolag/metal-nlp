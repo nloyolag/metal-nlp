{
 "cells": [
  {
   "cell_type": "code",
   "execution_count": 3,
   "metadata": {
    "collapsed": false
   },
   "outputs": [
    {
     "data": {
      "text/plain": [
       "[['email',\n",
       "  'evaluation1',\n",
       "  'evaluation2',\n",
       "  'evaluation3',\n",
       "  'evaluation4',\n",
       "  'evaluation5'],\n",
       " ['arturovvy@live.com.mx', 'False', 'True', 'True', 'False', 'True'],\n",
       " ['noeloyolag@gmail.com', 'False', 'False', 'True', 'False', 'True'],\n",
       " ['arturovvy@live.com.mx', 'False', 'False', 'True', 'True', 'True'],\n",
       " ['noeloyolag@gmail.com', 'False', 'True', 'False', 'True', 'True']]"
      ]
     },
     "execution_count": 3,
     "metadata": {},
     "output_type": "execute_result"
    }
   ],
   "source": [
    "import csv\n",
    "\n",
    "evaluations = []\n",
    "with open('app/evaluations.csv', 'rb') as f:\n",
    "    reader = csv.reader(f)\n",
    "    evaluations = list(reader)\n",
    "\n",
    "evaluations[:5]"
   ]
  },
  {
   "cell_type": "code",
   "execution_count": null,
   "metadata": {
    "collapsed": true
   },
   "outputs": [],
   "source": []
  }
 ],
 "metadata": {
  "kernelspec": {
   "display_name": "Python 2",
   "language": "python",
   "name": "python2"
  },
  "language_info": {
   "codemirror_mode": {
    "name": "ipython",
    "version": 2
   },
   "file_extension": ".py",
   "mimetype": "text/x-python",
   "name": "python",
   "nbconvert_exporter": "python",
   "pygments_lexer": "ipython2",
   "version": "2.7.12"
  }
 },
 "nbformat": 4,
 "nbformat_minor": 1
}
