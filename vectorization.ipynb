{
 "cells": [
  {
   "cell_type": "code",
   "execution_count": 1,
   "metadata": {
    "collapsed": false
   },
   "outputs": [],
   "source": [
    "import pandas as pd\n",
    "import numpy as np\n",
    "import sklearn\n",
    "import nltk\n",
    "import re\n",
    "import os\n",
    "import codecs\n",
    "import mpld3\n",
    "import matplotlib.pyplot as plt\n",
    "import seaborn\n",
    "from time import time\n",
    "from sklearn.feature_extraction.text import TfidfVectorizer\n",
    "from sklearn.cluster import KMeans\n",
    "\n",
    "# Load data and pick a sample of 10%\n",
    "data = pd.read_pickle(\"darklyrics/clean_word_lyrics.pkl\")\n",
    "#data = pd.read_pickle(\"darklyrics/stemmed_lyrics.pkl\")\n",
    "#data = data.sample(frac=0.1)"
   ]
  },
  {
   "cell_type": "code",
   "execution_count": 18,
   "metadata": {
    "collapsed": false
   },
   "outputs": [
    {
     "data": {
      "text/plain": [
       "u'somewhere near empty space inauspicious fruit fell ground birth took meaning beginning finished end nothing began look yellow leaves sleeping annihilation sound like notes silent full ambiguity glance child hot desert cold meaningless calmness voice hidden graves clapper claw reach death secret neatness whiteness time abstruse sick prism beauty abomination black lines regret innocent walls burning flaws without look proceeding deep human look castlein remembrance humanity swear cunning adorations existence adorations unfetter battle water fire battle blood darkness end doesnt end without good bad altitude fallannihilation open eyes sky seems nothing standing deep castle might assumption black tired hearts hail eternity endless yearseternal darkness new ageage justicethe age darkness blood age cursed lifeand empty age darkness flies sky angels fall salvation dies nothing remains day god death comes joy begins pain suffer praying anti christmuhammad ibrahim lie dies truth packs nothing begins dumb lands bleedscreamtear experience brutality least love darkness storm blood darkness sand lay without fire whispers night'"
      ]
     },
     "execution_count": 18,
     "metadata": {},
     "output_type": "execute_result"
    }
   ],
   "source": [
    "data['lyrics_string'].iloc[1]"
   ]
  },
  {
   "cell_type": "markdown",
   "metadata": {},
   "source": [
    "## Counting distribution of words"
   ]
  },
  {
   "cell_type": "code",
   "execution_count": 5,
   "metadata": {
    "collapsed": false
   },
   "outputs": [
    {
     "data": {
      "text/html": [
       "<div>\n",
       "<table border=\"1\" class=\"dataframe\">\n",
       "  <thead>\n",
       "    <tr style=\"text-align: right;\">\n",
       "      <th></th>\n",
       "      <th>frequency</th>\n",
       "    </tr>\n",
       "  </thead>\n",
       "  <tbody>\n",
       "    <tr>\n",
       "      <th>00</th>\n",
       "      <td>5</td>\n",
       "    </tr>\n",
       "    <tr>\n",
       "      <th>000</th>\n",
       "      <td>41</td>\n",
       "    </tr>\n",
       "    <tr>\n",
       "      <th>000049</th>\n",
       "      <td>1</td>\n",
       "    </tr>\n",
       "    <tr>\n",
       "      <th>000528</th>\n",
       "      <td>1</td>\n",
       "    </tr>\n",
       "    <tr>\n",
       "      <th>0010110</th>\n",
       "      <td>1</td>\n",
       "    </tr>\n",
       "  </tbody>\n",
       "</table>\n",
       "</div>"
      ],
      "text/plain": [
       "         frequency\n",
       "00               5\n",
       "000             41\n",
       "000049           1\n",
       "000528           1\n",
       "0010110          1"
      ]
     },
     "execution_count": 5,
     "metadata": {},
     "output_type": "execute_result"
    }
   ],
   "source": [
    "from sklearn.feature_extraction.text import CountVectorizer\n",
    "word_vectorizer = CountVectorizer()\n",
    "count_sparse_matrix = word_vectorizer.fit_transform(data['lyrics_string'])\n",
    "frequencies = sum(count_sparse_matrix).toarray()[0]\n",
    "count_df = pd.DataFrame(frequencies, index=word_vectorizer.get_feature_names(), columns=['frequency'])\n",
    "count_df.head()"
   ]
  },
  {
   "cell_type": "code",
   "execution_count": 6,
   "metadata": {
    "collapsed": false
   },
   "outputs": [
    {
     "name": "stdout",
     "output_type": "stream",
     "text": [
      "['1 doc', '1', '2', '3', '4', '5', '6', '7', '8', '9', '10', '11', '12', '13', '14', '15', '16', '17', '18', '19', '20', '21', '22', '23', '24', '25', '26', '27', '28', '29', '30', '31', '32', '33', '34', '35', '36', '37', '38', '39', '40', '41', '42', '43', '44', '45', '46', '47', '48', '49', '50', '51', '52', '53', '54', '55', '56', '57', '58', '59', '60', '61', '62', '63', '64', '65', '66', '67', '68', '69', '70', '71', '72', '73', '74', '75', '76', '77', '78', '79', '80', '81', '82', '83', '84', '85', '86', '87', '88', '89', '90', '91', '92', '93', '94', '95', '96', '97', '98', '99', '100']\n",
      "[141908, 123526, 0, 0, 0, 0, 0, 0, 0, 0, 0, 0, 0, 0, 0, 0, 0, 0, 0, 0, 0, 0, 0, 0, 0, 0, 0, 0, 0, 0, 0, 0, 0, 0, 0, 0, 0, 0, 0, 0, 0, 0, 0, 0, 0, 0, 0, 0, 0, 0, 0, 0, 0, 0, 0, 0, 0, 0, 0, 0, 0, 0, 0, 0, 0, 0, 0, 0, 0, 0, 0, 0, 0, 0, 0, 0, 0, 0, 0, 0, 0, 0, 0, 0, 0, 0, 0, 0, 0, 0, 0, 0, 0, 0, 0, 0, 0, 0, 0, 0, 0]\n"
     ]
    }
   ],
   "source": [
    "total_words = count_df['frequency'].sum()\n",
    "count_df['frequency_p'] = count_df['frequency'] / float(total_words) * 100.0\n",
    "labels = [str(x) for x in range(1, 101)]\n",
    "labels.insert(0, '1 doc')\n",
    "percentage_counts = []\n",
    "\n",
    "for x in range(1, 101):\n",
    "    percentage_counts.append(len(count_df[ (count_df.frequency_p >= x - 1) & (count_df.frequency_p < x) ]))\n",
    "    \n",
    "single_doc_count = len(count_df[count_df.frequency == 1])\n",
    "percentage_counts[0] -= single_doc_count\n",
    "percentage_counts.insert(0, single_doc_count)\n",
    "print labels\n",
    "print percentage_counts"
   ]
  },
  {
   "cell_type": "code",
   "execution_count": 10,
   "metadata": {
    "collapsed": false
   },
   "outputs": [
    {
     "data": {
      "image/png": "[encoded data removed]",
      "text/plain": [
       "<matplotlib.figure.Figure at 0x7f6c6334eed0>"
      ]
     },
     "metadata": {},
     "output_type": "display_data"
    }
   ],
   "source": [
    "plt.plot(percentage_counts)\n",
    "#plt.axis(labels)\n",
    "plt.show()"
   ]
  },
  {
   "cell_type": "markdown",
   "metadata": {},
   "source": [
    "## Stemming"
   ]
  },
  {
   "cell_type": "code",
   "execution_count": 3,
   "metadata": {
    "collapsed": true
   },
   "outputs": [],
   "source": [
    "from nltk.stem.snowball import SnowballStemmer\n",
    "\n",
    "stemmer = SnowballStemmer(\"english\")\n",
    "\n",
    "def stem_text(text, stemmer):\n",
    "    return ' '.join([stemmer.stem(word) for word in text.split()])\n",
    "\n",
    "data['lyrics_string'] = data.lyrics_string.apply(lambda x: stem_text(x, stemmer))"
   ]
  },
  {
   "cell_type": "code",
   "execution_count": 5,
   "metadata": {
    "collapsed": true
   },
   "outputs": [],
   "source": [
    "# Save stemmed vocabulary in file\n",
    "data.to_pickle(\"darklyrics/stemmed_lyrics.pkl\")\n"
   ]
  },
  {
   "cell_type": "code",
   "execution_count": 16,
   "metadata": {
    "collapsed": false
   },
   "outputs": [
    {
     "name": "stdout",
     "output_type": "stream",
     "text": [
      "TFIDF vectorization performed in 17.759473 seconds\n",
      "Num samples: 189123, num features: 265434\n"
     ]
    }
   ],
   "source": [
    "begin = time()\n",
    "vectorizer = TfidfVectorizer(ngram_range=(1, 1))\n",
    "x = vectorizer.fit_transform(data['lyrics_string'])\n",
    "end = time()\n",
    "print 'TFIDF vectorization performed in %f seconds' % (end - begin)\n",
    "print 'Num samples: %d, num features: %d' % x.shape"
   ]
  },
  {
   "cell_type": "markdown",
   "metadata": {},
   "source": [
    "### Results of stemming vs no stemming\n",
    "\n",
    "**Documents:** 189123\n",
    "\n",
    "#### Stemmed\n",
    "\n",
    "##### Unigrams only\n",
    "**Time:** 84.3s\n",
    "**Features:** 208631\n",
    "\n",
    "##### Bigrams\n",
    "**Time:** \n",
    "**Features:** \n",
    "\n",
    "##### Trigrams\n",
    "**Time:** \n",
    "**Features:** \n",
    "\n",
    "#### Non-stemmed\n",
    "\n",
    "##### Unigrams only\n",
    "**Time:** 19.77s\n",
    "**Features:** 102682\n",
    "\n",
    "##### Bigrams\n",
    "**Time:** 104.71\n",
    "**Features:** 1546712\n",
    "\n",
    "##### Trigrams\n",
    "**Time:** \n",
    "**Features:** \n"
   ]
  },
  {
   "cell_type": "code",
   "execution_count": 17,
   "metadata": {
    "collapsed": false
   },
   "outputs": [
    {
     "data": {
      "text/html": [
       "<div>\n",
       "<table border=\"1\" class=\"dataframe\">\n",
       "  <thead>\n",
       "    <tr style=\"text-align: right;\">\n",
       "      <th></th>\n",
       "      <th>feature</th>\n",
       "      <th>tfidf</th>\n",
       "    </tr>\n",
       "  </thead>\n",
       "  <tbody>\n",
       "    <tr>\n",
       "      <th>0</th>\n",
       "      <td>adorations</td>\n",
       "      <td>0.273468</td>\n",
       "    </tr>\n",
       "    <tr>\n",
       "      <th>1</th>\n",
       "      <td>darkness</td>\n",
       "      <td>0.234321</td>\n",
       "    </tr>\n",
       "    <tr>\n",
       "      <th>2</th>\n",
       "      <td>age</td>\n",
       "      <td>0.173305</td>\n",
       "    </tr>\n",
       "    <tr>\n",
       "      <th>3</th>\n",
       "      <td>christmuhammad</td>\n",
       "      <td>0.147590</td>\n",
       "    </tr>\n",
       "    <tr>\n",
       "      <th>4</th>\n",
       "      <td>justicethe</td>\n",
       "      <td>0.147590</td>\n",
       "    </tr>\n",
       "    <tr>\n",
       "      <th>5</th>\n",
       "      <td>fallannihilation</td>\n",
       "      <td>0.147590</td>\n",
       "    </tr>\n",
       "    <tr>\n",
       "      <th>6</th>\n",
       "      <td>castlein</td>\n",
       "      <td>0.147590</td>\n",
       "    </tr>\n",
       "    <tr>\n",
       "      <th>7</th>\n",
       "      <td>ibrahim</td>\n",
       "      <td>0.147590</td>\n",
       "    </tr>\n",
       "    <tr>\n",
       "      <th>8</th>\n",
       "      <td>ageage</td>\n",
       "      <td>0.147590</td>\n",
       "    </tr>\n",
       "    <tr>\n",
       "      <th>9</th>\n",
       "      <td>yearseternal</td>\n",
       "      <td>0.147590</td>\n",
       "    </tr>\n",
       "    <tr>\n",
       "      <th>10</th>\n",
       "      <td>bleedscreamtear</td>\n",
       "      <td>0.147590</td>\n",
       "    </tr>\n",
       "    <tr>\n",
       "      <th>11</th>\n",
       "      <td>nothing</td>\n",
       "      <td>0.140515</td>\n",
       "    </tr>\n",
       "    <tr>\n",
       "      <th>12</th>\n",
       "      <td>neatness</td>\n",
       "      <td>0.139378</td>\n",
       "    </tr>\n",
       "    <tr>\n",
       "      <th>13</th>\n",
       "      <td>clapper</td>\n",
       "      <td>0.136734</td>\n",
       "    </tr>\n",
       "    <tr>\n",
       "      <th>14</th>\n",
       "      <td>lifeand</td>\n",
       "      <td>0.127392</td>\n",
       "    </tr>\n",
       "    <tr>\n",
       "      <th>15</th>\n",
       "      <td>unfetter</td>\n",
       "      <td>0.127392</td>\n",
       "    </tr>\n",
       "    <tr>\n",
       "      <th>16</th>\n",
       "      <td>without</td>\n",
       "      <td>0.123388</td>\n",
       "    </tr>\n",
       "    <tr>\n",
       "      <th>17</th>\n",
       "      <td>inauspicious</td>\n",
       "      <td>0.122953</td>\n",
       "    </tr>\n",
       "    <tr>\n",
       "      <th>18</th>\n",
       "      <td>abstruse</td>\n",
       "      <td>0.122235</td>\n",
       "    </tr>\n",
       "    <tr>\n",
       "      <th>19</th>\n",
       "      <td>look</td>\n",
       "      <td>0.117478</td>\n",
       "    </tr>\n",
       "    <tr>\n",
       "      <th>20</th>\n",
       "      <td>dies</td>\n",
       "      <td>0.116981</td>\n",
       "    </tr>\n",
       "    <tr>\n",
       "      <th>21</th>\n",
       "      <td>begins</td>\n",
       "      <td>0.116304</td>\n",
       "    </tr>\n",
       "    <tr>\n",
       "      <th>22</th>\n",
       "      <td>altitude</td>\n",
       "      <td>0.115117</td>\n",
       "    </tr>\n",
       "    <tr>\n",
       "      <th>23</th>\n",
       "      <td>ambiguity</td>\n",
       "      <td>0.112704</td>\n",
       "    </tr>\n",
       "    <tr>\n",
       "      <th>24</th>\n",
       "      <td>assumption</td>\n",
       "      <td>0.109453</td>\n",
       "    </tr>\n",
       "  </tbody>\n",
       "</table>\n",
       "</div>"
      ],
      "text/plain": [
       "             feature     tfidf\n",
       "0         adorations  0.273468\n",
       "1           darkness  0.234321\n",
       "2                age  0.173305\n",
       "3     christmuhammad  0.147590\n",
       "4         justicethe  0.147590\n",
       "5   fallannihilation  0.147590\n",
       "6           castlein  0.147590\n",
       "7            ibrahim  0.147590\n",
       "8             ageage  0.147590\n",
       "9       yearseternal  0.147590\n",
       "10   bleedscreamtear  0.147590\n",
       "11           nothing  0.140515\n",
       "12          neatness  0.139378\n",
       "13           clapper  0.136734\n",
       "14           lifeand  0.127392\n",
       "15          unfetter  0.127392\n",
       "16           without  0.123388\n",
       "17      inauspicious  0.122953\n",
       "18          abstruse  0.122235\n",
       "19              look  0.117478\n",
       "20              dies  0.116981\n",
       "21            begins  0.116304\n",
       "22          altitude  0.115117\n",
       "23         ambiguity  0.112704\n",
       "24        assumption  0.109453"
      ]
     },
     "execution_count": 17,
     "metadata": {},
     "output_type": "execute_result"
    }
   ],
   "source": [
    "features = vectorizer.get_feature_names()\n",
    "\n",
    "def top_tfidf_feats(row, features, top_n=25):\n",
    "    ''' Get top n tfidf values in row and return them with their corresponding feature names.'''\n",
    "    topn_ids = np.argsort(row)[::-1][:top_n]\n",
    "    top_feats = [(features[i], row[i]) for i in topn_ids]\n",
    "    df = pd.DataFrame(top_feats)\n",
    "    df.columns = ['feature', 'tfidf']\n",
    "    return df\n",
    "\n",
    "def top_feats_in_doc(Xtr, features, row_id, top_n=25):\n",
    "    ''' Top tfidf features in specific document (matrix row) '''\n",
    "    row = np.squeeze(Xtr[row_id].toarray())\n",
    "    return top_tfidf_feats(row, features, top_n)\n",
    "\n",
    "tfidf_sample = top_feats_in_doc(x, features, 1)\n",
    "tfidf_sample"
   ]
  },
  {
   "cell_type": "code",
   "execution_count": null,
   "metadata": {
    "collapsed": true
   },
   "outputs": [],
   "source": [
    "\n",
    "\n",
    "km = KMeans(n_clusters=50)\n",
    "begin = time()\n",
    "km.fit(x)\n",
    "end = time()\n",
    "print 'K means computed in %f' % (end - begin)"
   ]
  },
  {
   "cell_type": "code",
   "execution_count": null,
   "metadata": {
    "collapsed": true
   },
   "outputs": [],
   "source": []
  }
 ],
 "metadata": {
  "kernelspec": {
   "display_name": "Python 2",
   "language": "python",
   "name": "python2"
  },
  "language_info": {
   "codemirror_mode": {
    "name": "ipython",
    "version": 2
   },
   "file_extension": ".py",
   "mimetype": "text/x-python",
   "name": "python",
   "nbconvert_exporter": "python",
   "pygments_lexer": "ipython2",
   "version": "2.7.12"
  }
 },
 "nbformat": 4,
 "nbformat_minor": 1
}
