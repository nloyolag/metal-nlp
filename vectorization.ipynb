{
 "cells": [
  {
   "cell_type": "code",
   "execution_count": 1,
   "metadata": {
    "collapsed": false
   },
   "outputs": [
    {
     "name": "stderr",
     "output_type": "stream",
     "text": [
      "/home/nloyola/anaconda2/envs/metal/lib/python2.7/site-packages/IPython/html.py:14: ShimWarning: The `IPython.html` package has been deprecated. You should import from `notebook` instead. `IPython.html.widgets` has moved to `ipywidgets`.\n",
      "  \"`IPython.html.widgets` has moved to `ipywidgets`.\", ShimWarning)\n",
      "/home/nloyola/anaconda2/envs/metal/lib/python2.7/site-packages/jupyter_core/application.py:106: DeprecationWarning: metadata {'config': True} was set from the constructor.  Metadata should be set using the .tag() method, e.g., Int().tag(key1='value1', key2='value2')\n",
      "  help=\"\"\"Generate default config file.\"\"\"\n",
      "/home/nloyola/anaconda2/envs/metal/lib/python2.7/site-packages/jupyter_core/application.py:110: DeprecationWarning: metadata {'config': True} was set from the constructor.  Metadata should be set using the .tag() method, e.g., Int().tag(key1='value1', key2='value2')\n",
      "  help=\"Specify a config file to load.\"\n",
      "/home/nloyola/anaconda2/envs/metal/lib/python2.7/site-packages/jupyter_core/application.py:118: DeprecationWarning: metadata {'config': True} was set from the constructor.  Metadata should be set using the .tag() method, e.g., Int().tag(key1='value1', key2='value2')\n",
      "  help=\"\"\"Full path of a config file.\"\"\",\n",
      "/home/nloyola/anaconda2/envs/metal/lib/python2.7/site-packages/jupyter_core/application.py:122: DeprecationWarning: metadata {'config': True} was set from the constructor.  Metadata should be set using the .tag() method, e.g., Int().tag(key1='value1', key2='value2')\n",
      "  help=\"\"\"Answer yes to any prompts.\"\"\"\n",
      "/home/nloyola/anaconda2/envs/metal/lib/python2.7/site-packages/notebook/nbextensions.py:624: DeprecationWarning: metadata {'config': True} was set from the constructor.  Metadata should be set using the .tag() method, e.g., Int().tag(key1='value1', key2='value2')\n",
      "  user = Bool(False, config=True, help=\"Whether to do a user install\")\n",
      "/home/nloyola/anaconda2/envs/metal/lib/python2.7/site-packages/notebook/nbextensions.py:625: DeprecationWarning: metadata {'config': True} was set from the constructor.  Metadata should be set using the .tag() method, e.g., Int().tag(key1='value1', key2='value2')\n",
      "  sys_prefix = Bool(False, config=True, help=\"Use the sys.prefix as the prefix\")\n",
      "/home/nloyola/anaconda2/envs/metal/lib/python2.7/site-packages/notebook/nbextensions.py:626: DeprecationWarning: metadata {'config': True} was set from the constructor.  Metadata should be set using the .tag() method, e.g., Int().tag(key1='value1', key2='value2')\n",
      "  python = Bool(False, config=True, help=\"Install from a Python package\")\n",
      "/home/nloyola/anaconda2/envs/metal/lib/python2.7/site-packages/notebook/nbextensions.py:629: DeprecationWarning: metadata {'config': True} was set from the constructor.  Metadata should be set using the .tag() method, e.g., Int().tag(key1='value1', key2='value2')\n",
      "  verbose = Any(None, config=True, help=\"DEPRECATED: Verbosity level\")\n",
      "/home/nloyola/anaconda2/envs/metal/lib/python2.7/site-packages/notebook/nbextensions.py:685: DeprecationWarning: metadata {'config': True} was set from the constructor.  Metadata should be set using the .tag() method, e.g., Int().tag(key1='value1', key2='value2')\n",
      "  overwrite = Bool(False, config=True, help=\"Force overwrite of existing files\")\n",
      "/home/nloyola/anaconda2/envs/metal/lib/python2.7/site-packages/notebook/nbextensions.py:686: DeprecationWarning: metadata {'config': True} was set from the constructor.  Metadata should be set using the .tag() method, e.g., Int().tag(key1='value1', key2='value2')\n",
      "  symlink = Bool(False, config=True, help=\"Create symlinks instead of copying files\")\n",
      "/home/nloyola/anaconda2/envs/metal/lib/python2.7/site-packages/notebook/nbextensions.py:688: DeprecationWarning: metadata {'config': True} was set from the constructor.  Metadata should be set using the .tag() method, e.g., Int().tag(key1='value1', key2='value2')\n",
      "  prefix = Unicode('', config=True, help=\"Installation prefix\")\n",
      "/home/nloyola/anaconda2/envs/metal/lib/python2.7/site-packages/notebook/nbextensions.py:690: DeprecationWarning: metadata {'config': True} was set from the constructor.  Metadata should be set using the .tag() method, e.g., Int().tag(key1='value1', key2='value2')\n",
      "  help=\"Full path to nbextensions dir (probably use prefix or user)\")\n",
      "/home/nloyola/anaconda2/envs/metal/lib/python2.7/site-packages/notebook/nbextensions.py:691: DeprecationWarning: metadata {'config': True} was set from the constructor.  Metadata should be set using the .tag() method, e.g., Int().tag(key1='value1', key2='value2')\n",
      "  destination = Unicode('', config=True, help=\"Destination for the copy or symlink\")\n",
      "/home/nloyola/anaconda2/envs/metal/lib/python2.7/site-packages/notebook/nbextensions.py:768: DeprecationWarning: metadata {'config': True} was set from the constructor.  Metadata should be set using the .tag() method, e.g., Int().tag(key1='value1', key2='value2')\n",
      "  prefix = Unicode('', config=True, help=\"Installation prefix\")\n",
      "/home/nloyola/anaconda2/envs/metal/lib/python2.7/site-packages/notebook/nbextensions.py:769: DeprecationWarning: metadata {'config': True} was set from the constructor.  Metadata should be set using the .tag() method, e.g., Int().tag(key1='value1', key2='value2')\n",
      "  nbextensions_dir = Unicode('', config=True, help=\"Full path to nbextensions dir (probably use prefix or user)\")\n",
      "/home/nloyola/anaconda2/envs/metal/lib/python2.7/site-packages/notebook/nbextensions.py:770: DeprecationWarning: metadata {'config': True} was set from the constructor.  Metadata should be set using the .tag() method, e.g., Int().tag(key1='value1', key2='value2')\n",
      "  require = Unicode('', config=True, help=\"require.js module to load.\")\n",
      "/home/nloyola/anaconda2/envs/metal/lib/python2.7/site-packages/notebook/nbextensions.py:816: DeprecationWarning: metadata {'config': True} was set from the constructor.  Metadata should be set using the .tag() method, e.g., Int().tag(key1='value1', key2='value2')\n",
      "  help=\"\"\"Which config section to add the extension to, 'common' will affect all pages.\"\"\"\n",
      "/home/nloyola/anaconda2/envs/metal/lib/python2.7/site-packages/notebook/nbextensions.py:818: DeprecationWarning: metadata {'config': True} was set from the constructor.  Metadata should be set using the .tag() method, e.g., Int().tag(key1='value1', key2='value2')\n",
      "  user = Bool(True, config=True, help=\"Apply the configuration only for the current user (default)\")\n"
     ]
    }
   ],
   "source": [
    "import pandas as pd\n",
    "import numpy as np\n",
    "import sklearn\n",
    "import nltk\n",
    "import re\n",
    "import os\n",
    "import codecs\n",
    "import mpld3\n",
    "import matplotlib.pyplot as plt\n",
    "import seaborn\n",
    "import pylab\n",
    "from time import time\n",
    "from sklearn.feature_extraction.text import TfidfVectorizer\n",
    "\n",
    "# Load data and pick a sample of 10%\n",
    "#data = pd.read_pickle(\"darklyrics/cleaned_lyrics.pkl\")\n",
    "data = pd.read_pickle(\"darklyrics/data_normal.pkl\")\n",
    "#data = data.sample(frac=0.1)"
   ]
  },
  {
   "cell_type": "markdown",
   "metadata": {},
   "source": [
    "## Counting distribution of words"
   ]
  },
  {
   "cell_type": "code",
   "execution_count": 9,
   "metadata": {
    "collapsed": false
   },
   "outputs": [
    {
     "data": {
      "text/plain": [
       "78920"
      ]
     },
     "execution_count": 9,
     "metadata": {},
     "output_type": "execute_result"
    }
   ],
   "source": [
    "count = 0\n",
    "for index, row in data.iterrows():\n",
    "    if 'see' in row['lyrics_string']:\n",
    "        count += 1 \n",
    "    \n",
    "count"
   ]
  },
  {
   "cell_type": "code",
   "execution_count": 10,
   "metadata": {
    "collapsed": false
   },
   "outputs": [
    {
     "name": "stdout",
     "output_type": "stream",
     "text": [
      "Count vectorization performed in 572.125771 seconds\n"
     ]
    },
    {
     "data": {
      "text/html": [
       "<div>\n",
       "<table border=\"1\" class=\"dataframe\">\n",
       "  <thead>\n",
       "    <tr style=\"text-align: right;\">\n",
       "      <th></th>\n",
       "      <th>frequency</th>\n",
       "    </tr>\n",
       "  </thead>\n",
       "  <tbody>\n",
       "    <tr>\n",
       "      <th>00</th>\n",
       "      <td>21</td>\n",
       "    </tr>\n",
       "    <tr>\n",
       "      <th>000</th>\n",
       "      <td>438</td>\n",
       "    </tr>\n",
       "    <tr>\n",
       "      <th>000lb</th>\n",
       "      <td>1</td>\n",
       "    </tr>\n",
       "    <tr>\n",
       "      <th>000s</th>\n",
       "      <td>2</td>\n",
       "    </tr>\n",
       "    <tr>\n",
       "      <th>001</th>\n",
       "      <td>4</td>\n",
       "    </tr>\n",
       "  </tbody>\n",
       "</table>\n",
       "</div>"
      ],
      "text/plain": [
       "       frequency\n",
       "00            21\n",
       "000          438\n",
       "000lb          1\n",
       "000s           2\n",
       "001            4"
      ]
     },
     "execution_count": 10,
     "metadata": {},
     "output_type": "execute_result"
    }
   ],
   "source": [
    "from sklearn.feature_extraction.text import CountVectorizer\n",
    "\n",
    "begin = time()\n",
    "word_vectorizer = CountVectorizer(ngram_range=(1, 1), stop_words='english')\n",
    "count_sparse_matrix = word_vectorizer.fit_transform(data['lyrics_string'])\n",
    "frequencies = sum(count_sparse_matrix).toarray()[0]\n",
    "count_df = pd.DataFrame(frequencies, index=word_vectorizer.get_feature_names(), columns=['frequency'])\n",
    "end = time()\n",
    "print 'Count vectorization performed in %f seconds' % (end - begin)\n",
    "\n",
    "count_df.head()"
   ]
  },
  {
   "cell_type": "code",
   "execution_count": 13,
   "metadata": {
    "collapsed": false
   },
   "outputs": [
    {
     "name": "stdout",
     "output_type": "stream",
     "text": [
      "186609\n",
      "['1 doc', '1', '2', '3', '4', '5', '6', '7', '8', '9', '10', '11', '12', '13', '14', '15', '16', '17', '18', '19', '20', '21', '22', '23', '24', '25', '26', '27', '28', '29', '30', '31', '32', '33', '34', '35', '36', '37', '38', '39', '40', '41', '42', '43', '44', '45', '46', '47', '48', '49', '50', '51', '52', '53', '54', '55', '56', '57', '58', '59', '60', '61', '62', '63', '64', '65', '66', '67', '68', '69', '70', '71', '72', '73', '74', '75', '76', '77', '78', '79', '80', '81', '82', '83', '84', '85', '86', '87', '88', '89', '90', '91', '92', '93', '94', '95', '96', '97', '98', '99', '100']\n",
      "[88208, 93578, 563, 253, 129, 80, 53, 23, 33, 18, 8, 9, 12, 11, 9, 6, 5, 1, 7, 3, 6, 1, 4, 0, 1, 4, 0, 3, 3, 2, 0, 3, 1, 0, 2, 1, 0, 0, 0, 2, 1, 0, 0, 0, 1, 0, 2, 0, 0, 0, 0, 0, 0, 0, 0, 0, 0, 0, 0, 1, 0, 0, 1, 0, 0, 1, 0, 0, 0, 0, 0, 0, 0, 0, 0, 0, 0, 0, 0, 0, 0, 0, 0, 0, 0, 0, 0, 0, 0, 0, 0, 0, 0, 0, 0, 0, 0, 0, 0, 0, 0]\n",
      "183049\n"
     ]
    }
   ],
   "source": [
    "from sklearn.preprocessing import normalize\n",
    "\n",
    "total_docs = len(data)\n",
    "count_df['frequency_p'] = (count_df['frequency'] / float(total_docs)) * 100.0\n",
    "labels = [str(x) for x in range(1, 101)]\n",
    "labels.insert(0, '1 doc')\n",
    "percentage_counts = []\n",
    "\n",
    "for x in range(1, 101):\n",
    "    percentage_counts.append(len(count_df[ (count_df.frequency_p >= x - 1) & (count_df.frequency_p < x) ]))\n",
    "    \n",
    "single_doc_count = len(count_df[count_df.frequency == 1])\n",
    "percentage_counts[0] -= single_doc_count\n",
    "percentage_counts.insert(0, single_doc_count)\n",
    "\n",
    "#percentage_counts = [np.log(i) if i > 0.0 else 0.0 for i in percentage_counts]\n",
    "print total_docs\n",
    "print labels\n",
    "print percentage_counts\n",
    "print sum(percentage_counts)"
   ]
  },
  {
   "cell_type": "code",
   "execution_count": 12,
   "metadata": {
    "collapsed": false
   },
   "outputs": [
    {
     "data": {
      "image/png": "[encoded data removed]",
      "text/plain": [
       "<matplotlib.figure.Figure at 0x7fd24b24e7d0>"
      ]
     },
     "metadata": {},
     "output_type": "display_data"
    }
   ],
   "source": [
    "plt.plot(percentage_counts)\n",
    "plt.yscale('log')\n",
    "plt.show()"
   ]
  },
  {
   "cell_type": "markdown",
   "metadata": {},
   "source": [
    "## TF-IDF Vectorization"
   ]
  },
  {
   "cell_type": "code",
   "execution_count": 2,
   "metadata": {
    "collapsed": false
   },
   "outputs": [
    {
     "name": "stdout",
     "output_type": "stream",
     "text": [
      "TFIDF vectorization (unigrams, nonstemmed) performed in 17.788810 seconds\n",
      "Num samples: 7433, num features: 74035\n",
      "TFIDF vectorization (unigrams, stemmed) performed in 15.545174 seconds\n",
      "Num samples: 7433, num features: 48344\n",
      "TFIDF vectorization (bigrams, nonstemmed) performed in 90.080702 seconds\n",
      "Num samples: 7433, num features: 1254265\n",
      "TFIDF vectorization (bigrams, stemmed) performed in 65.022197 seconds\n",
      "Num samples: 7433, num features: 1180154\n"
     ]
    }
   ],
   "source": [
    "artist_data = pd.read_pickle(\"darklyrics/artist_data_normal.pkl\")\n",
    "artist_data_stemmed = pd.read_pickle(\"darklyrics/artist_data_stemmed.pkl\")\n",
    "\n",
    "\n",
    "begin = time()\n",
    "vectorizer = TfidfVectorizer(ngram_range=(1, 1), stop_words='english', min_df=2)\n",
    "x = vectorizer.fit_transform(artist_data.values)\n",
    "end = time()\n",
    "print 'TFIDF vectorization (unigrams, nonstemmed) performed in %f seconds' % (end - begin)\n",
    "print 'Num samples: %d, num features: %d' % x.shape\n",
    "begin = time()\n",
    "vectorizer = TfidfVectorizer(ngram_range=(1, 1), stop_words='english', min_df=2)\n",
    "x = vectorizer.fit_transform(artist_data_stemmed.values)\n",
    "end = time()\n",
    "print 'TFIDF vectorization (unigrams, stemmed) performed in %f seconds' % (end - begin)\n",
    "print 'Num samples: %d, num features: %d' % x.shape\n",
    "begin = time()\n",
    "vectorizer = TfidfVectorizer(ngram_range=(1, 2), stop_words='english', min_df=2)\n",
    "x = vectorizer.fit_transform(artist_data.values)\n",
    "end = time()\n",
    "print 'TFIDF vectorization (bigrams, nonstemmed) performed in %f seconds' % (end - begin)\n",
    "print 'Num samples: %d, num features: %d' % x.shape\n",
    "begin = time()\n",
    "vectorizer = TfidfVectorizer(ngram_range=(1, 2), stop_words='english', min_df=2)\n",
    "x = vectorizer.fit_transform(artist_data_stemmed.values)\n",
    "end = time()\n",
    "print 'TFIDF vectorization (bigrams, stemmed) performed in %f seconds' % (end - begin)\n",
    "print 'Num samples: %d, num features: %d' % x.shape"
   ]
  },
  {
   "cell_type": "markdown",
   "metadata": {},
   "source": [
    "### Results of stemming vs no stemming\n",
    "\n",
    "**Documents:** 189123\n",
    "\n",
    "#### Stemmed\n",
    "\n",
    "##### Unigrams only\n",
    "**Time:** 30.31s\n",
    "**Features:** 67091\n",
    "\n",
    "##### Bigrams\n",
    "**Time:** 89.89s\n",
    "**Features:** 1342971\n",
    "\n",
    "#### Non-stemmed\n",
    "\n",
    "##### Unigrams only\n",
    "**Time:** 29.72s\n",
    "**Features:** 94614\n",
    "\n",
    "##### Bigrams\n",
    "**Time:** 103.46\n",
    "**Features:** 1442807\n"
   ]
  },
  {
   "cell_type": "code",
   "execution_count": 3,
   "metadata": {
    "collapsed": false
   },
   "outputs": [
    {
     "data": {
      "text/html": [
       "<div>\n",
       "<table border=\"1\" class=\"dataframe\">\n",
       "  <thead>\n",
       "    <tr style=\"text-align: right;\">\n",
       "      <th></th>\n",
       "      <th>feature</th>\n",
       "      <th>tfidf</th>\n",
       "    </tr>\n",
       "  </thead>\n",
       "  <tbody>\n",
       "    <tr>\n",
       "      <th>0</th>\n",
       "      <td>wanted</td>\n",
       "      <td>0.418546</td>\n",
       "    </tr>\n",
       "    <tr>\n",
       "      <th>1</th>\n",
       "      <td>born</td>\n",
       "      <td>0.409128</td>\n",
       "    </tr>\n",
       "    <tr>\n",
       "      <th>2</th>\n",
       "      <td>disappoint</td>\n",
       "      <td>0.372452</td>\n",
       "    </tr>\n",
       "    <tr>\n",
       "      <th>3</th>\n",
       "      <td>expectations</td>\n",
       "      <td>0.306276</td>\n",
       "    </tr>\n",
       "    <tr>\n",
       "      <th>4</th>\n",
       "      <td>short</td>\n",
       "      <td>0.236385</td>\n",
       "    </tr>\n",
       "    <tr>\n",
       "      <th>5</th>\n",
       "      <td>accept</td>\n",
       "      <td>0.232083</td>\n",
       "    </tr>\n",
       "    <tr>\n",
       "      <th>6</th>\n",
       "      <td>failed</td>\n",
       "      <td>0.224275</td>\n",
       "    </tr>\n",
       "    <tr>\n",
       "      <th>7</th>\n",
       "      <td>tried</td>\n",
       "      <td>0.196489</td>\n",
       "    </tr>\n",
       "    <tr>\n",
       "      <th>8</th>\n",
       "      <td>let</td>\n",
       "      <td>0.180294</td>\n",
       "    </tr>\n",
       "    <tr>\n",
       "      <th>9</th>\n",
       "      <td>bothered</td>\n",
       "      <td>0.177616</td>\n",
       "    </tr>\n",
       "    <tr>\n",
       "      <th>10</th>\n",
       "      <td>thorn</td>\n",
       "      <td>0.143439</td>\n",
       "    </tr>\n",
       "    <tr>\n",
       "      <th>11</th>\n",
       "      <td>ok</td>\n",
       "      <td>0.139274</td>\n",
       "    </tr>\n",
       "    <tr>\n",
       "      <th>12</th>\n",
       "      <td>fall</td>\n",
       "      <td>0.134702</td>\n",
       "    </tr>\n",
       "    <tr>\n",
       "      <th>13</th>\n",
       "      <td>resist</td>\n",
       "      <td>0.121448</td>\n",
       "    </tr>\n",
       "    <tr>\n",
       "      <th>14</th>\n",
       "      <td>started</td>\n",
       "      <td>0.118085</td>\n",
       "    </tr>\n",
       "    <tr>\n",
       "      <th>15</th>\n",
       "      <td>defeat</td>\n",
       "      <td>0.115089</td>\n",
       "    </tr>\n",
       "    <tr>\n",
       "      <th>16</th>\n",
       "      <td>isn</td>\n",
       "      <td>0.109475</td>\n",
       "    </tr>\n",
       "    <tr>\n",
       "      <th>17</th>\n",
       "      <td>meant</td>\n",
       "      <td>0.108091</td>\n",
       "    </tr>\n",
       "    <tr>\n",
       "      <th>18</th>\n",
       "      <td>clear</td>\n",
       "      <td>0.096083</td>\n",
       "    </tr>\n",
       "    <tr>\n",
       "      <th>19</th>\n",
       "      <td>peace</td>\n",
       "      <td>0.088566</td>\n",
       "    </tr>\n",
       "    <tr>\n",
       "      <th>20</th>\n",
       "      <td>years</td>\n",
       "      <td>0.083274</td>\n",
       "    </tr>\n",
       "    <tr>\n",
       "      <th>21</th>\n",
       "      <td>believe</td>\n",
       "      <td>0.075922</td>\n",
       "    </tr>\n",
       "    <tr>\n",
       "      <th>22</th>\n",
       "      <td>hate</td>\n",
       "      <td>0.072203</td>\n",
       "    </tr>\n",
       "    <tr>\n",
       "      <th>23</th>\n",
       "      <td>pain</td>\n",
       "      <td>0.059114</td>\n",
       "    </tr>\n",
       "    <tr>\n",
       "      <th>24</th>\n",
       "      <td>fuct</td>\n",
       "      <td>0.000000</td>\n",
       "    </tr>\n",
       "  </tbody>\n",
       "</table>\n",
       "</div>"
      ],
      "text/plain": [
       "         feature     tfidf\n",
       "0         wanted  0.418546\n",
       "1           born  0.409128\n",
       "2     disappoint  0.372452\n",
       "3   expectations  0.306276\n",
       "4          short  0.236385\n",
       "5         accept  0.232083\n",
       "6         failed  0.224275\n",
       "7          tried  0.196489\n",
       "8            let  0.180294\n",
       "9       bothered  0.177616\n",
       "10         thorn  0.143439\n",
       "11            ok  0.139274\n",
       "12          fall  0.134702\n",
       "13        resist  0.121448\n",
       "14       started  0.118085\n",
       "15        defeat  0.115089\n",
       "16           isn  0.109475\n",
       "17         meant  0.108091\n",
       "18         clear  0.096083\n",
       "19         peace  0.088566\n",
       "20         years  0.083274\n",
       "21       believe  0.075922\n",
       "22          hate  0.072203\n",
       "23          pain  0.059114\n",
       "24          fuct  0.000000"
      ]
     },
     "execution_count": 3,
     "metadata": {},
     "output_type": "execute_result"
    }
   ],
   "source": [
    "features = vectorizer.get_feature_names()\n",
    "\n",
    "def top_tfidf_feats(row, features, top_n=25):\n",
    "    ''' Get top n tfidf values in row and return them with their corresponding feature names.'''\n",
    "    topn_ids = np.argsort(row)[::-1][:top_n]\n",
    "    top_feats = [(features[i], row[i]) for i in topn_ids]\n",
    "    df = pd.DataFrame(top_feats)\n",
    "    df.columns = ['feature', 'tfidf']\n",
    "    return df\n",
    "\n",
    "def top_feats_in_doc(Xtr, features, row_id, top_n=25):\n",
    "    ''' Top tfidf features in specific document (matrix row) '''\n",
    "    row = np.squeeze(Xtr[row_id].toarray())\n",
    "    return top_tfidf_feats(row, features, top_n)\n",
    "\n",
    "tfidf_sample = top_feats_in_doc(x, features, 1)\n",
    "tfidf_sample"
   ]
  }
 ],
 "metadata": {
  "kernelspec": {
   "display_name": "Python 2",
   "language": "python",
   "name": "python2"
  },
  "language_info": {
   "codemirror_mode": {
    "name": "ipython",
    "version": 2
   },
   "file_extension": ".py",
   "mimetype": "text/x-python",
   "name": "python",
   "nbconvert_exporter": "python",
   "pygments_lexer": "ipython2",
   "version": "2.7.12"
  }
 },
 "nbformat": 4,
 "nbformat_minor": 1
}
