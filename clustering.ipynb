{
 "cells": [
  {
   "cell_type": "code",
   "execution_count": 1,
   "metadata": {
    "collapsed": false
   },
   "outputs": [
    {
     "name": "stderr",
     "output_type": "stream",
     "text": [
      "/home/nloyola/anaconda2/envs/metal/lib/python2.7/site-packages/IPython/html.py:14: ShimWarning: The `IPython.html` package has been deprecated. You should import from `notebook` instead. `IPython.html.widgets` has moved to `ipywidgets`.\n",
      "  \"`IPython.html.widgets` has moved to `ipywidgets`.\", ShimWarning)\n",
      "/home/nloyola/anaconda2/envs/metal/lib/python2.7/site-packages/jupyter_core/application.py:106: DeprecationWarning: metadata {'config': True} was set from the constructor.  Metadata should be set using the .tag() method, e.g., Int().tag(key1='value1', key2='value2')\n",
      "  help=\"\"\"Generate default config file.\"\"\"\n",
      "/home/nloyola/anaconda2/envs/metal/lib/python2.7/site-packages/jupyter_core/application.py:110: DeprecationWarning: metadata {'config': True} was set from the constructor.  Metadata should be set using the .tag() method, e.g., Int().tag(key1='value1', key2='value2')\n",
      "  help=\"Specify a config file to load.\"\n",
      "/home/nloyola/anaconda2/envs/metal/lib/python2.7/site-packages/jupyter_core/application.py:118: DeprecationWarning: metadata {'config': True} was set from the constructor.  Metadata should be set using the .tag() method, e.g., Int().tag(key1='value1', key2='value2')\n",
      "  help=\"\"\"Full path of a config file.\"\"\",\n",
      "/home/nloyola/anaconda2/envs/metal/lib/python2.7/site-packages/jupyter_core/application.py:122: DeprecationWarning: metadata {'config': True} was set from the constructor.  Metadata should be set using the .tag() method, e.g., Int().tag(key1='value1', key2='value2')\n",
      "  help=\"\"\"Answer yes to any prompts.\"\"\"\n",
      "/home/nloyola/anaconda2/envs/metal/lib/python2.7/site-packages/notebook/nbextensions.py:624: DeprecationWarning: metadata {'config': True} was set from the constructor.  Metadata should be set using the .tag() method, e.g., Int().tag(key1='value1', key2='value2')\n",
      "  user = Bool(False, config=True, help=\"Whether to do a user install\")\n",
      "/home/nloyola/anaconda2/envs/metal/lib/python2.7/site-packages/notebook/nbextensions.py:625: DeprecationWarning: metadata {'config': True} was set from the constructor.  Metadata should be set using the .tag() method, e.g., Int().tag(key1='value1', key2='value2')\n",
      "  sys_prefix = Bool(False, config=True, help=\"Use the sys.prefix as the prefix\")\n",
      "/home/nloyola/anaconda2/envs/metal/lib/python2.7/site-packages/notebook/nbextensions.py:626: DeprecationWarning: metadata {'config': True} was set from the constructor.  Metadata should be set using the .tag() method, e.g., Int().tag(key1='value1', key2='value2')\n",
      "  python = Bool(False, config=True, help=\"Install from a Python package\")\n",
      "/home/nloyola/anaconda2/envs/metal/lib/python2.7/site-packages/notebook/nbextensions.py:629: DeprecationWarning: metadata {'config': True} was set from the constructor.  Metadata should be set using the .tag() method, e.g., Int().tag(key1='value1', key2='value2')\n",
      "  verbose = Any(None, config=True, help=\"DEPRECATED: Verbosity level\")\n",
      "/home/nloyola/anaconda2/envs/metal/lib/python2.7/site-packages/notebook/nbextensions.py:685: DeprecationWarning: metadata {'config': True} was set from the constructor.  Metadata should be set using the .tag() method, e.g., Int().tag(key1='value1', key2='value2')\n",
      "  overwrite = Bool(False, config=True, help=\"Force overwrite of existing files\")\n",
      "/home/nloyola/anaconda2/envs/metal/lib/python2.7/site-packages/notebook/nbextensions.py:686: DeprecationWarning: metadata {'config': True} was set from the constructor.  Metadata should be set using the .tag() method, e.g., Int().tag(key1='value1', key2='value2')\n",
      "  symlink = Bool(False, config=True, help=\"Create symlinks instead of copying files\")\n",
      "/home/nloyola/anaconda2/envs/metal/lib/python2.7/site-packages/notebook/nbextensions.py:688: DeprecationWarning: metadata {'config': True} was set from the constructor.  Metadata should be set using the .tag() method, e.g., Int().tag(key1='value1', key2='value2')\n",
      "  prefix = Unicode('', config=True, help=\"Installation prefix\")\n",
      "/home/nloyola/anaconda2/envs/metal/lib/python2.7/site-packages/notebook/nbextensions.py:690: DeprecationWarning: metadata {'config': True} was set from the constructor.  Metadata should be set using the .tag() method, e.g., Int().tag(key1='value1', key2='value2')\n",
      "  help=\"Full path to nbextensions dir (probably use prefix or user)\")\n",
      "/home/nloyola/anaconda2/envs/metal/lib/python2.7/site-packages/notebook/nbextensions.py:691: DeprecationWarning: metadata {'config': True} was set from the constructor.  Metadata should be set using the .tag() method, e.g., Int().tag(key1='value1', key2='value2')\n",
      "  destination = Unicode('', config=True, help=\"Destination for the copy or symlink\")\n",
      "/home/nloyola/anaconda2/envs/metal/lib/python2.7/site-packages/notebook/nbextensions.py:768: DeprecationWarning: metadata {'config': True} was set from the constructor.  Metadata should be set using the .tag() method, e.g., Int().tag(key1='value1', key2='value2')\n",
      "  prefix = Unicode('', config=True, help=\"Installation prefix\")\n",
      "/home/nloyola/anaconda2/envs/metal/lib/python2.7/site-packages/notebook/nbextensions.py:769: DeprecationWarning: metadata {'config': True} was set from the constructor.  Metadata should be set using the .tag() method, e.g., Int().tag(key1='value1', key2='value2')\n",
      "  nbextensions_dir = Unicode('', config=True, help=\"Full path to nbextensions dir (probably use prefix or user)\")\n",
      "/home/nloyola/anaconda2/envs/metal/lib/python2.7/site-packages/notebook/nbextensions.py:770: DeprecationWarning: metadata {'config': True} was set from the constructor.  Metadata should be set using the .tag() method, e.g., Int().tag(key1='value1', key2='value2')\n",
      "  require = Unicode('', config=True, help=\"require.js module to load.\")\n",
      "/home/nloyola/anaconda2/envs/metal/lib/python2.7/site-packages/notebook/nbextensions.py:816: DeprecationWarning: metadata {'config': True} was set from the constructor.  Metadata should be set using the .tag() method, e.g., Int().tag(key1='value1', key2='value2')\n",
      "  help=\"\"\"Which config section to add the extension to, 'common' will affect all pages.\"\"\"\n",
      "/home/nloyola/anaconda2/envs/metal/lib/python2.7/site-packages/notebook/nbextensions.py:818: DeprecationWarning: metadata {'config': True} was set from the constructor.  Metadata should be set using the .tag() method, e.g., Int().tag(key1='value1', key2='value2')\n",
      "  user = Bool(True, config=True, help=\"Apply the configuration only for the current user (default)\")\n"
     ]
    }
   ],
   "source": [
    "import pandas as pd\n",
    "import numpy as np\n",
    "import sklearn\n",
    "import nltk\n",
    "import re\n",
    "import os\n",
    "import codecs\n",
    "import mpld3\n",
    "import matplotlib.pyplot as plt\n",
    "import seaborn\n",
    "import pylab\n",
    "from time import time\n",
    "from sklearn.feature_extraction.text import TfidfVectorizer\n",
    "from sklearn.cluster import KMeans\n",
    "\n",
    "# Load data and pick a sample of 10%\n",
    "data = pd.read_pickle(\"darklyrics/artist_data_stemmed.pkl\")\n",
    "data = data.sample(frac=0.1)"
   ]
  },
  {
   "cell_type": "markdown",
   "metadata": {},
   "source": [
    "## TF-IDF Vectorization"
   ]
  },
  {
   "cell_type": "code",
   "execution_count": 2,
   "metadata": {
    "collapsed": false
   },
   "outputs": [
    {
     "name": "stdout",
     "output_type": "stream",
     "text": [
      "TFIDF vectorization performed in 1.823620 seconds\n",
      "Num samples: 743, num features: 14731\n"
     ]
    }
   ],
   "source": [
    "begin = time()\n",
    "vectorizer = TfidfVectorizer(ngram_range=(1, 1), stop_words='english', min_df=2)\n",
    "x = vectorizer.fit_transform(data.values)\n",
    "end = time()\n",
    "print 'TFIDF vectorization performed in %f seconds' % (end - begin)\n",
    "print 'Num samples: %d, num features: %d' % x.shape\n",
    "features = vectorizer.get_feature_names()"
   ]
  },
  {
   "cell_type": "markdown",
   "metadata": {},
   "source": [
    "## Clustering"
   ]
  },
  {
   "cell_type": "code",
   "execution_count": 3,
   "metadata": {
    "collapsed": true
   },
   "outputs": [],
   "source": [
    "from sklearn.metrics.pairwise import cosine_similarity\n",
    "distance = 1 - cosine_similarity(x)"
   ]
  },
  {
   "cell_type": "code",
   "execution_count": 4,
   "metadata": {
    "collapsed": false
   },
   "outputs": [
    {
     "name": "stdout",
     "output_type": "stream",
     "text": [
      "K means computed in 3.868077\n"
     ]
    }
   ],
   "source": [
    "km = KMeans(n_clusters=10)\n",
    "begin = time()\n",
    "km.fit(x)\n",
    "end = time()\n",
    "print 'K means computed in %f' % (end - begin)"
   ]
  },
  {
   "cell_type": "code",
   "execution_count": 5,
   "metadata": {
    "collapsed": true
   },
   "outputs": [],
   "source": [
    "from sklearn.externals import joblib\n",
    "\n",
    "#joblib.dump(km, 'darklyrics/doc_cluster.pkl')\n",
    "#km = joblib.load('doc_cluster.pkl')\n",
    "clusters = km.labels_.tolist()"
   ]
  },
  {
   "cell_type": "code",
   "execution_count": 6,
   "metadata": {
    "collapsed": false
   },
   "outputs": [
    {
     "data": {
      "text/plain": [
       "8    194\n",
       "7    144\n",
       "6    140\n",
       "5     95\n",
       "0     79\n",
       "4     40\n",
       "3     24\n",
       "1     15\n",
       "2      9\n",
       "9      3\n",
       "Name: cluster, dtype: int64"
      ]
     },
     "execution_count": 6,
     "metadata": {},
     "output_type": "execute_result"
    }
   ],
   "source": [
    "data2 = data.to_frame()\n",
    "data2['cluster'] = clusters\n",
    "data2 = data2.reset_index()\n",
    "data2['cluster'].value_counts()"
   ]
  },
  {
   "cell_type": "code",
   "execution_count": 8,
   "metadata": {
    "collapsed": false
   },
   "outputs": [
    {
     "name": "stdout",
     "output_type": "stream",
     "text": [
      "Top terms per cluster:\n",
      "\n",
      "Cluster 0 words: \n",
      "\n",
      " dont  like  know  come  time  feel  oh  metal  night  love \n",
      "\n",
      "Cluster 0 artists:\n",
      "palisades, the taste of blood, side winder, heidevolk, acrimony, whitecross, tersivel, down to hell, wild dogs, tuomas holopainen, earth, fight back, le grand guignol, pyrithion, dolorian, wrecking tanganyika, umbra nihil, five psychosis, rhymes of destruction, dynabyte, abominable putridity, phoenix rising, pitbulls in the nursery, metal king, garden of eden, versus affect, vectom, chordewa, steelheart, crashed souls, agents of oblivion, bodies in the gears of the apparatus, letters from the colony, jack slater, riot games, butterfly temple, matanzick, sofa king killer, intoxxxicated, primate, the luminary, author & punisher, barroquejón, orgone, monarch, upsidedown cross, :fjoergyn:, mystic forest, cryfemal, terra mourn, wardruna, stahlhammer, saltus, avsky, divine intervention, fallenlight, muro, crawler, a tree of signs, raising the veil, mare, ajattara, kuolemanlaakso, creation's tears, 1000 funerals, rata blanca, pleymo, goatsnake, struggle with god, alcatrazz, soundscape, gate 9, totalselfhatred, torment, finsternis, exetheris, orestes, kaoteon, hyubris, \n",
      "\n",
      "Cluster 1 words: \n",
      "\n",
      " flesh  blood  dead  corps  death  bodi  gut  rot  kill  murder \n",
      "\n",
      "Cluster 1 artists:\n",
      "gorelord, ogre, retaliation, reinfection, clit ripper, lord gore, impaled, prostitute disfigurement, bloodshed, vomitory, ear bleeding disorder, torture killer, brodequin, aborted, dead infection, \n",
      "\n",
      "Cluster 2 words: \n",
      "\n",
      " love  heart  feel  time  im  know  let  eye  dream  live \n",
      "\n",
      "Cluster 2 artists:\n",
      "mortal love, sunstorm, benighted soul, enchantya, dead man in reno, gillman, faust again, amore ad lunam, revamp, \n",
      "\n",
      "Cluster 3 words: \n",
      "\n",
      " sword  warrior  battl  blood  god  steel  land  shall  fight  death \n",
      "\n",
      "Cluster 3 artists:\n",
      "krigere wolf, morrigan, bathory, stormwarrior, kroda, hrossharsgrani, unleashed, validor, wolfsword, folkearth, distoriam, crypt of kerberos, helsótt, battlerage, ironsword, isenburg, crimson shadows, rivendell, scythia, airged l'amh, iuvenes, hin onde, thyrfing, apraxia, \n",
      "\n",
      "Cluster 4 words: \n",
      "\n",
      " fuck  shit  im  time  dont  life  know  want  world  make \n",
      "\n",
      "Cluster 4 artists:\n",
      "shere khan, abacinate, raging speedhorn, circle of death, sylvester staline, tomb of doom, remover, abhorrance, level the city, applaud the impaler, price of blood, casey jones, insect warfare, lacerhate, adrenicide, lifeforms, prophecy, count nosferatu kommando, internal devour, circus of dead squirrels, suffer well, in the eyes of a mistress, feign, x-cops, bloodshoteye, postmortem promises, weekend nachos, every hand betrayed, the oppressor, the locust, try me / love me, domination, hand of mercy, decrypt, those who lie beneath, magnum force, legion, dr. acula, executive, spazz, \n",
      "\n",
      "Cluster 5 words: \n",
      "\n",
      " shall  death  dark  blood  thi  night  god  soul  satan  black \n",
      "\n",
      "Cluster 5 artists:\n",
      "shub niggurath, ravens throne, abigor, kozeljnik, thy endless wrath, eluveitie, dragonlord, mythopoeia, anima damnata, triptykon, bloodhunter, hollenthon, inanna, funeris nocturnum, betray my secrets, twilight ophera, in battle, black swan, mare cognitum, averse sefira, organic infest, with blood comes cleansing, aura noir, imperial crystalline entombment, pilgrim, cradle of filth, nazxul, ketzer, at rest, encoffination, behemoth, goatmoon, drunkard, hades almighty, thus defiled, horde, winter of apokalypse, the beast remade, desolator, ninnghizhidda, thornspawn, keep of kalessin, demoniciduth, nero order, frozen dawn, rigor sardonicous, hate, krisiun, infester, vociferian, malleus maleficarum, tephra, s.c.a.l.p., cold northern vengeance, evilfeast, mystic circle, my own grave, kaamos, negative plane, sobre nocturne, vergelmer, salacious gods, crimson moon, dead silent slumber, sorath, imperious malevolence, hermh, dies ater, havayoth, lordian guard, botanist, koldborn, nile, demonthor, legenda, blackcrowned, dissection, throne of katarsis, moss of moonlight, sabhankra, anal vomit, apollyon, order of the ebon hand, path of golconda, i, abyssos, sargeist, zørormr, thyestean feast, elgibbor, orphaned land, croword, the vision bleak, phyrexia, capitis damnare, \n",
      "\n",
      "Cluster 6 words: \n",
      "\n",
      " time  life  im  come  eye  dream  feel  night  world  away \n",
      "\n",
      "Cluster 6 artists:\n",
      "the morningside, symphonian, crimson rivers, lake of tears, pagan's mind, john arch, funeral diner, personal war, polkadot cadaver, eudaimony, haken, arven, a canorous quintet, before the torn, heavenblast, arcana, samael, crescent shield, angra, lord, cain's dinasty, destruction of a rose, psilocybe larvae, pantommind, bejelit, geasa, thunderbolt, ruination, oblomov, unicorn, bethzaida, astral doors, stratovarius, thränenkind, bloody hammers, savage grace, manimal, kalmah, eternal deformity, the wounded, visions of atlantis, barren earth, veiled in scarlet, gothminister, wovenwar, black abyss, dog fashion disco, heaven shall burn, xandria, enbound, evemaster, emerald mind, neolith, wicked angel, reinxeed, serdce, dark moor, dawnrider, cem köksal, logar's diary, reverend bizarre, skyfire, sigh, iced earth, human error, eternal lord, probot, trans-siberian orchestra, crystal viper, dark empire, meduza, tiamat, desperados, winds of plague, dream evil, running wild, tarja, unearth, illidiance, deathlike silence, deimos, at the gates, forever's edge, temujin, the mercury arc, beyond the black, beyond the embrace, it dies today, blood ceremony, embrace eternity, state faults, nefilim, wolves at the gate, sirenia, axel rudi pell, pain confessor, hopesfall, benighted, ruinthrone, xibalba, julie laughs nomore, an ocean between us, undying, between the buried and me, leprous, destinity, shellyz raven, noumena, grave digger, sacred oath, mastercastle, hysterica, hyperion, shaded enmity, demise, inner visions, catharsis, nightland, thunder lord, edge of thorns, stargate, divinity destroyed, wolf, phoenix reign, under black clouds, dis pater, emerald, forest of shadows, pathfinder, compos mentis, the obsessed, cales, thine eyes bleed, autumnal, tuatha de danann, kapel maister, blood thirsty demons, khoma, manticora, illusion suite, \n",
      "\n",
      "Cluster 7 words: \n",
      "\n",
      " im  dont  know  time  life  feel  away  way  like  ive \n",
      "\n",
      "Cluster 7 artists:\n",
      "national napalm syndicate, serianna, pain of salvation, a dozen furies, leander rising, the damned things, beautiful sin, noturnall, vision of disorder, crooks, abandon all ships, biohazard, hacride, genitorturers, dead horse, underneath the gun, insense, the last ten seconds of life, american head charge, heart of a coward, evolvent, nine, flying colors, a faylene sky, the burning season, khallice, platitude, dreadful shadows, downpresser, kyuss, angtoria, epica, jackyl, poisonblack, clawfinger, warmen, royal thunder, burn it to the ground, shadowside, beware the neverending, one morning left, sword, ken mode, baptized in blood, type o negative, nuclear assault, fire in the skies, cripper, drown, widowmaker, cauldron, negative, michael sweet, welcome to your life, dividing the masses, daedalus, vicious rumors, circus maximus, return from exile, medulla nocte, dokken, undawn, kick axe, drill 187, elitist, for all i am, downfall, cobalto, kid gorgeous, 36 crazyfists, forward unto dawn, nora, sheavy, the jelly jam, as artifacts, angelus apatrida, tell me a fairytale, bane, abortus, nancial, michael kiske, d.b.c., the red chord, room with a view, swan christy, the betrayer's judgement, magellan, to the wind, symbols, monster magnet, dry kill logic, the afterimage, disbelief, wargasm, bars, grey skies fallen, arion, end of an era, prong, for all eternity, everon, addiction crew, gorefest, a.c.t., stryper, belladonna, fall city fall, mother of mercy, megadeth, in this chest, dillinger escape plan, stutterfly, dying silence, psycho motel, diecast, strife, her nightmare, q5, embers, faithful unto death, modern life is war, amplexus, crisis, misery inc., secrecy, dagoba, machine head, forevermore, blackshine, cryptic slaughter, breakdown of sanity, zeromancer, an early ending, blind witness, remembering never, down royale, misery loves co, taraxacum, seemless, fragile nova, cynicist, u.n.s.i.n., forbidden, advocates, \n",
      "\n",
      "Cluster 8 words: \n",
      "\n",
      " life  time  death  world  eye  mind  soul  die  come  end \n",
      "\n",
      "Cluster 8 artists:\n",
      "thargos, and came back brutal, wrath, brutality, coalfield, vortex of clutter, rudhira, anti-mortem, blood of the martyrs, conducting from the grave, the absence, serpent, reinkaos, ad vitam aeternam, the famine, monstrosity, east of the wall, tunes of despair, desolated, anthemon, lehavoth, torture, satifer, blood feast, eternal, jasta, the final burden, deteriorot, demented heart, hyperborea, autumn leaves, a red nightmare, callisto, death of millions, the enchanted, theory in practice, living eyes, dawn of demise, korova, dark sanctuary, resist the thought, qantice, distorted mind, breach the void, ilium, mork, frozen infinity, oathbreaker, nothing remains, cianide, shadow keep, katafalk, black breath, last chance to reason, aztec jade, scar symmetry, fester, hieronymus bosch, ignominious incarceration, knights of the abyss, décembre noir, act of defiance, devastating enemy, intervals, tribune, kweizar, king's evil, ghamorean, demonica, fleshgore, acoustic torment, urkraft, adx, dementor, he the deceiver, burst, gwydion, black fast, ghost / aeon, behold the kingdom, the rotted, dark millennium, necrotize, dew-scented, dark matter, arsames, alice in darkland, creepmime, the ragnarok prophecy, burn the weak, no comment, the stratagem, wrench in the works, cadaver inc., arcana coelestia, xenocide, exile, grimfist, born headless, into eternity, decease, mourn code, archspire, rune, this is sparta, nocturnal winds, vengeance rising, painful memories, beyond terror beyond grace, sinoath, fatal crisis, lunatics without skateboards inc., dorsal atlântica, master, serpent wings, rafflesia, front line assembly, regain the legacy, mistyfate, dreamlore, hollow vessels, purified in blood, sore plexus, hatepulse, crystal castle, buried alive, helheim, morbid death, archaios, solium fatalis, inner thought, demoniac, tidfall, ghost bath, ulcus, the fifth season, demilich, construct, blessed agony, coffinworm, in loving memory, abiura, becoming the archetype, book of black earth, melankoly, harasai, landmine marathon, anasarca, eternal thirst, eugenic death, nembience, fallen arise, enshine, fear of none, vinterblot, scarab, agent steel, carach angren, the burial, marshall law, we still stand alive, iluminato, odious sanction, griftegård, cavalera conspiracy, job for a cowboy, viogression, ninnuam, hellennium, frater, cone of silence, a hope for home, darkness shall rise, windir, the down troddence, wytchfynde, moonlight agony, feigd, yob, lands of past, the moth gatherer, falls of rauros, nader sadek, necromanther, drottnar, obnoxious, vulcano, agressor, convulse, seth, massacre, rage nucléaire, watchmaker, arkaik, \n",
      "\n",
      "Cluster 9 words: \n",
      "\n",
      " hail  blasphem  satan  blasphemi  heir  deflor  virgin  jewish  nazaren  antichrist \n",
      "\n",
      "Cluster 9 artists:\n",
      "freitod, hellspawn, blasphemy, \n",
      "\n"
     ]
    }
   ],
   "source": [
    "print \"Top terms per cluster:\"\n",
    "print \"\"\n",
    "\n",
    "#sort cluster centers by proximity to centroid\n",
    "order_centroids = km.cluster_centers_.argsort()[:, ::-1] \n",
    "\n",
    "for i in range(10):\n",
    "    print \"Cluster %d words: \" % i\n",
    "    print \"\"\n",
    "    \n",
    "    for ind in order_centroids[i, :10]: #replace 6 with n words per cluster\n",
    "        print ' %s' % features[ind].encode('utf-8', 'ignore'),\n",
    "    print \"\"\n",
    "    print \"\"\n",
    "    \n",
    "    print \"Cluster %d artists:\" % i\n",
    "    for artist_index, row in data2[data2['cluster'] == i].iterrows():\n",
    "        print ('%s,' % row['artist']),\n",
    "    print \"\"\n",
    "    print \"\""
   ]
  },
  {
   "cell_type": "code",
   "execution_count": 9,
   "metadata": {
    "collapsed": true
   },
   "outputs": [],
   "source": [
    "# http://www.metalstorm.net/users/list.php?list_id=2413\n",
    "top_bands = [\n",
    "    \"black sabbath\", \"judas priest\", \"tool\", \"korn\", \"slipknot\", \"iron maiden\", \"metallica\", \"venom\", \"motorhead\",\n",
    "    \"slayer\", \"celtic frost\", \"bathory\", \"helloween\", \"possessed\", \"death\", \"pantera\", \"godflesh\", \"morbid angel\",\n",
    "    \"paradise lost\", \"at the gates\", \"mercyful fate\", \"accept\", \"melvins\", \"budgie\", \"queensryche\", \"kreator\",\n",
    "    \"napalm death\", \"gorguts\", \"sepultura\", \"dream theater\", \"mayhem\", \"yngwie malmsteen\", \"manowar\", \"candlemass\",\n",
    "    \"watchtower\", \"burzum\", \"emperor\", \"atheist\", \"repulsion\", \"pentagram\", \"trouble\", \"saint vitus\", \"entombed\",\n",
    "    \"obituary\", \"neurosis\", \"ministry\", \"suffocation\", \"diamond head\", \"anthrax\", \"darkthrone\", \"megadeth\",\n",
    "    \"autopsy\", \"savatage\", \"fates warning\", \"suicidal tendencies\", \"carcass\", \"deicide\", \"exodus\", \"amorphis\",\n",
    "    \"fear factory\", \"immortal\", \"sodom\", \"my dying bride\", \"the gathering\", \"theatre of tragedy\", \"dark angel\",\n",
    "    \"the 3ds and the mortal\", \"saxon\", \"thergoton\", \"earth\", \"opeth\", \"isis\", \"sleep\", \"blind guardian\", \"therion\",\n",
    "    \"in flames\", \"d.r.i\", \"meshuggah\", \"rhapsody of fire\", \"stratovarius\", \"manilla road\", \"destruction\", \"sarcofago\",\n",
    "    \"tiamat\", \"nightwish\", \"children of bodom\", \"enslaved\", \"dissection\", \"dark tranquility\", \"masters hammer\", \n",
    "    \"master\", \"cannibal corpse\", \"nocturnus\", \"crimson glory\", \"anathema\", \"bethlehem\", \"cathedral\", \"ulver\",\n",
    "    \"katatonia\", \"terrorizer\", \"w.a.s.p\", \"raven\", \"anvil\", \"dio\", \"gamma ray\", \"ozzy osbourne\", \"skyclad\", \"cynic\",\n",
    "    \"type o negative\", \"skepticism\", \"disembowelment\", \"danzig\", \"graveland\", \"rotting christ\", \"sentenced\",\n",
    "    \"white zombie\", \"immolation\", \"bolt thrower\", \"exhumed\", \"angel witch\", \"stormtroopers of death\", \"winter\",\n",
    "    \"vulcano\", \"corrosion of conformity\", \"king diamond\", \"machine head\", \"eyehategod\", \"crowbar\", \"carnivore\",\n",
    "    \"exhorder\", \"throns\", \"unholy\", \"prong\", \"testament\", \"overkill\", \"slaughter\", \"massacre\", \"voivod\",\n",
    "    \"hammerfall\", \"dimmu borgir\", \"cradle of filth\", \"finntroll\", \"satyricon\", \"in the woods...\", \"mastodon\",\n",
    "    \"witchfinder general\", \"running wild\", \"metal church\", \"marduk\", \"samael\", \"strapping young lad\", \n",
    "    \"symphony x\", \"nile\", \"summoning\"\n",
    "]"
   ]
  },
  {
   "cell_type": "code",
   "execution_count": null,
   "metadata": {
    "collapsed": true
   },
   "outputs": [],
   "source": []
  }
 ],
 "metadata": {
  "kernelspec": {
   "display_name": "Python 2",
   "language": "python",
   "name": "python2"
  },
  "language_info": {
   "codemirror_mode": {
    "name": "ipython",
    "version": 2
   },
   "file_extension": ".py",
   "mimetype": "text/x-python",
   "name": "python",
   "nbconvert_exporter": "python",
   "pygments_lexer": "ipython2",
   "version": "2.7.12"
  }
 },
 "nbformat": 4,
 "nbformat_minor": 1
}
