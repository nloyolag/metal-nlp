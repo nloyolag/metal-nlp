{
 "cells": [
  {
   "cell_type": "code",
   "execution_count": 1,
   "metadata": {
    "collapsed": false
   },
   "outputs": [],
   "source": [
    "import pandas as pd\n",
    "import re\n",
    "import json\n",
    "import itertools\n",
    "import string\n",
    "data = pd.read_pickle(\"darklyrics/lyrics.pkl\")"
   ]
  },
  {
   "cell_type": "code",
   "execution_count": 2,
   "metadata": {
    "collapsed": false
   },
   "outputs": [
    {
     "name": "stdout",
     "output_type": "stream",
     "text": [
      "<class 'pandas.core.frame.DataFrame'>\n",
      "Int64Index: 238046 entries, 0 to 941\n",
      "Data columns (total 5 columns):\n",
      "album     238046 non-null object\n",
      "artist    238046 non-null object\n",
      "lyrics    238046 non-null object\n",
      "name      238046 non-null object\n",
      "year      238046 non-null int64\n",
      "dtypes: int64(1), object(4)\n",
      "memory usage: 10.9+ MB\n"
     ]
    },
    {
     "data": {
      "text/plain": [
       "Index([u'album', u'artist', u'lyrics', u'name', u'year'], dtype='object')"
      ]
     },
     "execution_count": 2,
     "metadata": {},
     "output_type": "execute_result"
    }
   ],
   "source": [
    "data.info()\n",
    "data.head()\n",
    "data.keys()"
   ]
  },
  {
   "cell_type": "code",
   "execution_count": 3,
   "metadata": {
    "collapsed": false
   },
   "outputs": [
    {
     "data": {
      "text/plain": [
       "[u'hopeless time everything falls ideas died one by one when the wounds are',\n",
       " u'crying and bats are drawn in blood they go to the moon the clouds come and',\n",
       " u'draw the smiles of the moon in the marsh of lilac clouds reach from a',\n",
       " u'still silence of fog and we forget the night by its dawn the regret of',\n",
       " u'broken hearts you trundle in fucking pain you couldnt seeyou couldnt',\n",
       " u'feel like a blinded fold you bloody whore so shut up and die and fuck your',\n",
       " u'god']"
      ]
     },
     "execution_count": 3,
     "metadata": {},
     "output_type": "execute_result"
    }
   ],
   "source": [
    "# Convert lyrics to lowercase\n",
    "data['lyrics'] = data.lyrics.apply(lambda x: [y.lower() for y in x])\n",
    "\n",
    "# Remove punctuation\n",
    "punctuation_regex = re.compile('[^0-9a-zA-Z ]+')\n",
    "data['lyrics'] = data.lyrics.apply(lambda x: [punctuation_regex.sub(\"\", y) for y in x])\n",
    "\n",
    "# Remove text between brackets\n",
    "brackets_regex = re.compile('\\[.*?\\]')\n",
    "data['lyrics'] = data.lyrics.apply(lambda x: [brackets_regex.sub(\"\", y) for y in x])\n",
    "\n",
    "# Remove double spaces\n",
    "double_space_regex = re.compile('\\s+')\n",
    "data['lyrics'] = data.lyrics.apply(lambda x: [double_space_regex.sub(\" \", y) for y in x])\n",
    "\n",
    "# Print cleaned lyrics\n",
    "data.iloc[0,2]\n",
    "data.iloc[3,2]"
   ]
  },
  {
   "cell_type": "code",
   "execution_count": 4,
   "metadata": {
    "collapsed": false
   },
   "outputs": [],
   "source": [
    "# Create new column that places the lyrics a single string\n",
    "data['lyrics_string'] = data.lyrics.apply(lambda x: \" \".join(x))"
   ]
  },
  {
   "cell_type": "code",
   "execution_count": 6,
   "metadata": {
    "collapsed": false
   },
   "outputs": [
    {
     "data": {
      "text/plain": [
       "[u'hopeless time everything falls ideas died one by one when the wounds are',\n",
       " u'crying and bats are drawn in blood they go to the moon the clouds come and',\n",
       " u'draw the smiles of the moon in the marsh of lilac clouds reach from a',\n",
       " u'still silence of fog and we forget the night by its dawn the regret of',\n",
       " u'broken hearts you trundle in fucking pain you couldnt seeyou couldnt',\n",
       " u'feel like a blinded fold you bloody whore so shut up and die and fuck your',\n",
       " u'god']"
      ]
     },
     "execution_count": 6,
     "metadata": {},
     "output_type": "execute_result"
    }
   ],
   "source": [
    "# Remove songs with no lyrics\n",
    "data = data[data.lyrics_string != \"\"]\n",
    "data.iloc[0,2]"
   ]
  },
  {
   "cell_type": "code",
   "execution_count": 7,
   "metadata": {
    "collapsed": false
   },
   "outputs": [],
   "source": [
    "from nltk.corpus import stopwords   # stopwords to detect language\n",
    "from nltk import wordpunct_tokenize # function to split up our words\n",
    "from sys import stdin               # how else should we get our input :)\n",
    " \n",
    "def get_language_likelihood(input_text):\n",
    "    \"\"\"Return a dictionary of languages and their likelihood of being the \n",
    "    natural language of the input text\n",
    "    \"\"\"\n",
    " \n",
    "    input_text = input_text.lower()\n",
    "    input_words = wordpunct_tokenize(input_text)\n",
    " \n",
    "    language_likelihood = {}\n",
    "    total_matches = 0\n",
    "    for language in stopwords._fileids:\n",
    "        language_likelihood[language] = len(set(input_words) &\n",
    "                set(stopwords.words(language)))\n",
    " \n",
    "    return language_likelihood\n",
    " \n",
    "def get_language(input_text):\n",
    "    \"\"\"Return the most likely language of the given text\n",
    "    \"\"\"\n",
    " \n",
    "    likelihoods = get_language_likelihood(input_text)\n",
    "    return sorted(likelihoods, key=likelihoods.get, reverse=True)[0]"
   ]
  },
  {
   "cell_type": "code",
   "execution_count": 8,
   "metadata": {
    "collapsed": false
   },
   "outputs": [
    {
     "name": "stdout",
     "output_type": "stream",
     "text": [
      "<class 'pandas.core.frame.DataFrame'>\n",
      "Int64Index: 189141 entries, 3 to 940\n",
      "Data columns (total 6 columns):\n",
      "album            189141 non-null object\n",
      "artist           189141 non-null object\n",
      "lyrics           189141 non-null object\n",
      "name             189141 non-null object\n",
      "year             189141 non-null int64\n",
      "lyrics_string    189141 non-null object\n",
      "dtypes: int64(1), object(5)\n",
      "memory usage: 10.1+ MB\n"
     ]
    }
   ],
   "source": [
    "# Remove songs that are not in english\n",
    "data = data[data.apply(lambda x: get_language(x['lyrics_string']) == 'english', axis=1)]\n",
    "data.info()"
   ]
  },
  {
   "cell_type": "code",
   "execution_count": 22,
   "metadata": {
    "collapsed": false
   },
   "outputs": [
    {
     "name": "stdout",
     "output_type": "stream",
     "text": [
      "<class 'pandas.core.frame.DataFrame'>\n",
      "Int64Index: 189123 entries, 3 to 940\n",
      "Data columns (total 6 columns):\n",
      "album            189123 non-null object\n",
      "artist           189123 non-null object\n",
      "lyrics           189123 non-null object\n",
      "name             189123 non-null object\n",
      "year             189123 non-null int64\n",
      "lyrics_string    189123 non-null object\n",
      "dtypes: int64(1), object(5)\n",
      "memory usage: 10.1+ MB\n"
     ]
    }
   ],
   "source": [
    "# Remove outlier years\n",
    "data = data[data.year > 1913]\n",
    "data.info()\n"
   ]
  },
  {
   "cell_type": "code",
   "execution_count": 23,
   "metadata": {
    "collapsed": false
   },
   "outputs": [
    {
     "data": {
      "text/plain": [
       "1968"
      ]
     },
     "execution_count": 23,
     "metadata": {},
     "output_type": "execute_result"
    }
   ],
   "source": [
    "# General statistics\n",
    "len(data['artist'].unique()) # 7451 artists\n",
    "len(data['album'].unique()) # 22296 albums\n",
    "data['year'].max() # 2016\n",
    "data['year'].min() # 1968"
   ]
  },
  {
   "cell_type": "code",
   "execution_count": 25,
   "metadata": {
    "collapsed": false
   },
   "outputs": [],
   "source": [
    "data.to_pickle(\"darklyrics/cleaned_lyrics.pkl\")"
   ]
  },
  {
   "cell_type": "code",
   "execution_count": null,
   "metadata": {
    "collapsed": true
   },
   "outputs": [],
   "source": []
  }
 ],
 "metadata": {
  "kernelspec": {
   "display_name": "Python 2",
   "language": "python",
   "name": "python2"
  },
  "language_info": {
   "codemirror_mode": {
    "name": "ipython",
    "version": 2
   },
   "file_extension": ".py",
   "mimetype": "text/x-python",
   "name": "python",
   "nbconvert_exporter": "python",
   "pygments_lexer": "ipython2",
   "version": "2.7.12"
  }
 },
 "nbformat": 4,
 "nbformat_minor": 1
}
