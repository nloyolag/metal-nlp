{
 "cells": [
  {
   "cell_type": "code",
   "execution_count": 1,
   "metadata": {
    "collapsed": true
   },
   "outputs": [],
   "source": [
    "import pandas as pd\n",
    "import re\n",
    "import json\n",
    "import itertools\n",
    "import string\n",
    "data = pd.read_pickle(\"darklyrics/lyrics.pkl\")"
   ]
  },
  {
   "cell_type": "code",
   "execution_count": 2,
   "metadata": {
    "collapsed": false
   },
   "outputs": [
    {
     "name": "stdout",
     "output_type": "stream",
     "text": [
      "<class 'pandas.core.frame.DataFrame'>\n",
      "Int64Index: 238046 entries, 0 to 941\n",
      "Data columns (total 5 columns):\n",
      "album     238046 non-null object\n",
      "artist    238046 non-null object\n",
      "lyrics    238046 non-null object\n",
      "name      238046 non-null object\n",
      "year      238046 non-null int64\n",
      "dtypes: int64(1), object(4)\n",
      "memory usage: 10.9+ MB\n"
     ]
    },
    {
     "data": {
      "text/plain": [
       "Index([u'album', u'artist', u'lyrics', u'name', u'year'], dtype='object')"
      ]
     },
     "execution_count": 2,
     "metadata": {},
     "output_type": "execute_result"
    }
   ],
   "source": [
    "data.info()\n",
    "data.head()\n",
    "data.keys()"
   ]
  },
  {
   "cell_type": "code",
   "execution_count": 3,
   "metadata": {
    "collapsed": false
   },
   "outputs": [
    {
     "data": {
      "text/plain": [
       "[u'dea atra',\n",
       " u'redivivus',\n",
       " u'dea atra',\n",
       " u'gloriosa',\n",
       " u'abyss i call',\n",
       " u'you open the portals',\n",
       " u'in the great vastness of the night',\n",
       " u'let',\n",
       " u'your obedient',\n",
       " u'servant enter',\n",
       " u'the shrine and join them',\n",
       " u'in a timeless rite',\n",
       " u'',\n",
       " u'youre an elder divinity ',\n",
       " u'the pristine darkness',\n",
       " u'guiding nightmares and howling ghosts',\n",
       " u'a grim muse of a black mass',\n",
       " u'you are a thousand faced mother',\n",
       " u'of all gloom',\n",
       " u'look with great favor from above',\n",
       " u'on our hecatomb',\n",
       " u'dea atra',\n",
       " u'redivivus',\n",
       " u'dea atra',\n",
       " u'furiosa',\n",
       " u'my frantic heart',\n",
       " u'violently beats',\n",
       " u'biting into the sharp bars of the chest',\n",
       " u'all',\n",
       " u'the wounds',\n",
       " u'i ve ever had are',\n",
       " u'green once more at her ruthless behest',\n",
       " u'for this throne',\n",
       " u'you paid with many',\n",
       " u'guiltless preys',\n",
       " u'their dead eyes watch you ',\n",
       " u'but you can hold the gaze',\n",
       " u'the frail voices curse but',\n",
       " u'even cannot sore',\n",
       " u'disperse remains of these lost souls',\n",
       " u'forevermore',\n",
       " u'i am entranced',\n",
       " u'by my own death',\n",
       " u'my spirit broke all the possible chains',\n",
       " u'i m',\n",
       " u'her child',\n",
       " u'blessed with the cold',\n",
       " u'demonic blood that now runs through my veins',\n",
       " u'',\n",
       " u'youre an elder divinity ',\n",
       " u'the pristine darkness',\n",
       " u'guiding nightmares and howling ghosts',\n",
       " u'a grim muse of a black mass',\n",
       " u'you are a thousand faced mother',\n",
       " u'of all gloom',\n",
       " u'look with great favor from above',\n",
       " u'on our hecatomb',\n",
       " u'for this throne',\n",
       " u'you paid with many',\n",
       " u'guiltless preys',\n",
       " u'their dead eyes watch you ',\n",
       " u'but you can hold the gaze',\n",
       " u'the frail voices curse but',\n",
       " u'even cannot sore',\n",
       " u'disperse remains of these lost souls',\n",
       " u'forevermore',\n",
       " u'with your incandescent light',\n",
       " u'show us the way',\n",
       " u'to the new dimensions that we ll seize and slay',\n",
       " u'soon your might will ruin the walls',\n",
       " u'between the worlds',\n",
       " u'and give free rein to overwhelming stygian hordes']"
      ]
     },
     "execution_count": 3,
     "metadata": {},
     "output_type": "execute_result"
    }
   ],
   "source": [
    "# Convert lyrics to lowercase\n",
    "data['lyrics'] = data.lyrics.apply(lambda x: [y.lower() for y in x])\n",
    "\n",
    "# Remove text between brackets\n",
    "brackets_regex = re.compile('\\[.*?\\]')\n",
    "data['lyrics'] = data.lyrics.apply(lambda x: [brackets_regex.sub(\"\", y) for y in x])\n",
    "\n",
    "# Remove apostrophes\n",
    "apostrophe_regex = re.compile(\"[']\")\n",
    "data['lyrics'] = data.lyrics.apply(lambda x: [apostrophe_regex.sub(\"\", y) for y in x])\n",
    "\n",
    "# Remove punctuation\n",
    "punctuation_regex = re.compile('[^0-9a-zA-Z ]+')\n",
    "data['lyrics'] = data.lyrics.apply(lambda x: [punctuation_regex.sub(\" \", y) for y in x])\n",
    "\n",
    "# Remove double spaces\n",
    "double_space_regex = re.compile('\\s+')\n",
    "data['lyrics'] = data.lyrics.apply(lambda x: [double_space_regex.sub(\" \", y) for y in x])\n",
    "\n",
    "# Print cleaned lyrics\n",
    "data.iloc[0,2]\n",
    "data.iloc[10,2]"
   ]
  },
  {
   "cell_type": "code",
   "execution_count": 4,
   "metadata": {
    "collapsed": true
   },
   "outputs": [],
   "source": [
    "# Create new column that places the lyrics a single string\n",
    "data['lyrics_string'] = data.lyrics.apply(lambda x: \" \".join(x))"
   ]
  },
  {
   "cell_type": "code",
   "execution_count": 5,
   "metadata": {
    "collapsed": false
   },
   "outputs": [
    {
     "data": {
      "text/plain": [
       "[u'hopeless time everything falls ideas died one by one when the wounds are',\n",
       " u'crying and bats are drawn in blood they go to the moon the clouds come and',\n",
       " u'draw the smiles of the moon in the marsh of lilac clouds reach from a',\n",
       " u'still silence of fog and we forget the night by its dawn the regret of',\n",
       " u'broken hearts you trundle in fucking pain you couldnt see you couldnt',\n",
       " u'feel like a blinded fold you bloody whore so shut up and die and fuck your',\n",
       " u'god ']"
      ]
     },
     "execution_count": 5,
     "metadata": {},
     "output_type": "execute_result"
    }
   ],
   "source": [
    "# Remove songs with no lyrics\n",
    "data = data[data.lyrics_string != \"\"]\n",
    "data.iloc[0,2]"
   ]
  },
  {
   "cell_type": "code",
   "execution_count": 21,
   "metadata": {
    "collapsed": true
   },
   "outputs": [],
   "source": [
    "# Code taken from http://h6o6.com/2012/12/detecting-language-with-python-and-the-natural-language-toolkit-nltk/\n",
    "# Used to detect the language on lyrics\n",
    "\n",
    "from nltk.corpus import stopwords   # stopwords to detect language\n",
    "from nltk import wordpunct_tokenize # function to split up our words\n",
    "from sys import stdin               # how else should we get our input :)\n",
    " \n",
    "def get_language_likelihood(input_text):\n",
    "    \"\"\"Return a dictionary of languages and their likelihood of being the \n",
    "    natural language of the input text\n",
    "    \"\"\"\n",
    " \n",
    "    input_text = input_text.lower()\n",
    "    input_words = wordpunct_tokenize(input_text)\n",
    " \n",
    "    language_likelihood = {}\n",
    "    total_matches = 0\n",
    "    for language in stopwords._fileids:\n",
    "        language_likelihood[language] = len(set(input_words) &\n",
    "                set(stopwords.words(language)))\n",
    " \n",
    "    return language_likelihood\n",
    " \n",
    "def get_language(input_text):\n",
    "    \"\"\"Return the most likely language of the given text\n",
    "    \"\"\"\n",
    " \n",
    "    likelihoods = get_language_likelihood(input_text)\n",
    "    sorted_likelihoods = sorted(likelihoods, key=likelihoods.get, reverse=True)\n",
    "    first = sorted_likelihoods[0]\n",
    "    second = sorted_likelihoods[1]\n",
    "    if likelihoods[second] >= 10 and first == 'english':\n",
    "        return ''\n",
    "    else:\n",
    "        return first"
   ]
  },
  {
   "cell_type": "code",
   "execution_count": 22,
   "metadata": {
    "collapsed": false
   },
   "outputs": [
    {
     "name": "stdout",
     "output_type": "stream",
     "text": [
      "<class 'pandas.core.frame.DataFrame'>\n",
      "Int64Index: 186627 entries, 3 to 940\n",
      "Data columns (total 6 columns):\n",
      "album            186627 non-null object\n",
      "artist           186627 non-null object\n",
      "lyrics           186627 non-null object\n",
      "name             186627 non-null object\n",
      "year             186627 non-null int64\n",
      "lyrics_string    186627 non-null object\n",
      "dtypes: int64(1), object(5)\n",
      "memory usage: 10.0+ MB\n"
     ]
    }
   ],
   "source": [
    "# Remove songs that are not in english\n",
    "data = data[data.apply(lambda x: get_language(x['lyrics_string']) == 'english', axis=1)]\n",
    "data.info()"
   ]
  },
  {
   "cell_type": "code",
   "execution_count": 23,
   "metadata": {
    "collapsed": false
   },
   "outputs": [
    {
     "name": "stdout",
     "output_type": "stream",
     "text": [
      "<class 'pandas.core.frame.DataFrame'>\n",
      "Int64Index: 186609 entries, 3 to 940\n",
      "Data columns (total 6 columns):\n",
      "album            186609 non-null object\n",
      "artist           186609 non-null object\n",
      "lyrics           186609 non-null object\n",
      "name             186609 non-null object\n",
      "year             186609 non-null int64\n",
      "lyrics_string    186609 non-null object\n",
      "dtypes: int64(1), object(5)\n",
      "memory usage: 10.0+ MB\n"
     ]
    }
   ],
   "source": [
    "# Remove outlier years\n",
    "data = data[data.year > 1913]\n",
    "data.info()"
   ]
  },
  {
   "cell_type": "code",
   "execution_count": 24,
   "metadata": {
    "collapsed": false
   },
   "outputs": [
    {
     "name": "stdout",
     "output_type": "stream",
     "text": [
      "7433\n",
      "22179\n",
      "2016\n",
      "1968\n"
     ]
    }
   ],
   "source": [
    "# General statistics\n",
    "print len(data['artist'].unique()) # 7451 artists\n",
    "print len(data['album'].unique()) # 22296 albums\n",
    "print data['year'].max() # 2016\n",
    "print data['year'].min() # 1968"
   ]
  },
  {
   "cell_type": "code",
   "execution_count": null,
   "metadata": {
    "collapsed": true
   },
   "outputs": [],
   "source": [
    "# Save cleaned dataset in pickle file\n",
    "data.to_pickle(\"darklyrics/cleaned_lyrics.pkl\")"
   ]
  },
  {
   "cell_type": "code",
   "execution_count": null,
   "metadata": {
    "collapsed": true
   },
   "outputs": [],
   "source": [
    "data = pd.read_pickle(\"darklyrics/cleaned_lyrics.pkl\")"
   ]
  },
  {
   "cell_type": "markdown",
   "metadata": {},
   "source": [
    "## Stemming and stopword removal"
   ]
  },
  {
   "cell_type": "code",
   "execution_count": 25,
   "metadata": {
    "collapsed": true
   },
   "outputs": [],
   "source": [
    "from nltk.stem.snowball import SnowballStemmer\n",
    "from nltk.corpus import stopwords\n",
    "\n",
    "stemmer = SnowballStemmer(\"english\")\n",
    "cachedStopWords = stopwords.words(\"english\")\n",
    "\n",
    "def stem_text(text, stemmer):\n",
    "    return ' '.join([stemmer.stem(word) for word in text.split()])\n",
    "\n",
    "def remove_stopwords(text, cachedStopWords):\n",
    "    return ' '.join([word for word in text.split() if word not in cachedStopWords])"
   ]
  },
  {
   "cell_type": "markdown",
   "metadata": {},
   "source": [
    "## Remove stopwords"
   ]
  },
  {
   "cell_type": "code",
   "execution_count": 26,
   "metadata": {
    "collapsed": true
   },
   "outputs": [],
   "source": [
    "data_normal = data.copy()\n",
    "data_normal['lyrics_string'] = data_normal.lyrics_string.apply(lambda x: remove_stopwords(x, cachedStopWords))\n",
    "\n",
    "data_stemmed = data.copy()\n",
    "data_stemmed['lyrics_string'] = data_stemmed.lyrics_string.apply(lambda x: remove_stopwords(x, cachedStopWords))\n",
    "data_stemmed['lyrics_string'] = data_stemmed.lyrics_string.apply(lambda x: stem_text(x, stemmer))"
   ]
  },
  {
   "cell_type": "code",
   "execution_count": 27,
   "metadata": {
    "collapsed": false
   },
   "outputs": [
    {
     "name": "stdout",
     "output_type": "stream",
     "text": [
      "curs night rememb mad rip root curs night rememb branch hatr surround throat curs night rememb shadow disgust curs night rememb color white broken light dead light dead lagoon dark die scar cri repeat isol truth dirti passag human destroy trundl blood midst dirt human rip bodi hope beauti everyth stain everyth fall human like pig butcher everyth dark begin everyth misfortun curs night rememb everyth forgotten\n",
      "cursed nights remember madness ripping rooted cursed nights remember branches hatred surrounded throat cursed nights remember shadow disgusted cursed nights remember color white broken lights dead lights dead lagoons darkness dying scars crying repeating isolation truth dirty passages humanity destroying trundle blood midst dirts humanity rip body hope beautiful everything stained everything falls human like pigs butcher everything dark beginning everything misfortune cursed nights remember everything forgotten\n"
     ]
    }
   ],
   "source": [
    "print data_stemmed['lyrics_string'].iloc[5]\n",
    "print data_normal['lyrics_string'].iloc[5]"
   ]
  },
  {
   "cell_type": "code",
   "execution_count": 28,
   "metadata": {
    "collapsed": true
   },
   "outputs": [],
   "source": [
    "# Pickle both datasets\n",
    "data_normal.to_pickle(\"darklyrics/data_normal.pkl\")\n",
    "data_stemmed.to_pickle(\"darklyrics/data_stemmed.pkl\")"
   ]
  },
  {
   "cell_type": "code",
   "execution_count": 29,
   "metadata": {
    "collapsed": false
   },
   "outputs": [
    {
     "data": {
      "text/plain": [
       "artist\n",
       "'68                take heart next room make scene make sure aint...\n",
       "(sic)monic         revelation resurrections human blood leak woun...\n",
       "+\\-                looked wide open sky window often nights augus...\n",
       "...aaaarrghh...    hi lmeyi diledin mi ruhunun derinliklerinden g...\n",
       "...and oceans      fanfare chants trumpets loud proclaim world ho...\n",
       "Name: lyrics_string, dtype: object"
      ]
     },
     "execution_count": 29,
     "metadata": {},
     "output_type": "execute_result"
    }
   ],
   "source": [
    "# Group lyrics by artist\n",
    "artist_data_normal = data_normal.groupby('artist')['lyrics_string'].apply(lambda x: ' '.join(x))\n",
    "artist_data_stemmed = data_stemmed.groupby('artist')['lyrics_string'].apply(lambda x: ' '.join(x))\n",
    "artist_data_normal.head()\n"
   ]
  },
  {
   "cell_type": "code",
   "execution_count": 30,
   "metadata": {
    "collapsed": true
   },
   "outputs": [],
   "source": [
    "# Save cleaned dataset in pickle file\n",
    "artist_data_normal.to_pickle(\"darklyrics/artist_data_normal.pkl\")\n",
    "artist_data_stemmed.to_pickle(\"darklyrics/artist_data_stemmed.pkl\")"
   ]
  },
  {
   "cell_type": "code",
   "execution_count": null,
   "metadata": {
    "collapsed": true
   },
   "outputs": [],
   "source": []
  }
 ],
 "metadata": {
  "kernelspec": {
   "display_name": "Python 2",
   "language": "python",
   "name": "python2"
  },
  "language_info": {
   "codemirror_mode": {
    "name": "ipython",
    "version": 2
   },
   "file_extension": ".py",
   "mimetype": "text/x-python",
   "name": "python",
   "nbconvert_exporter": "python",
   "pygments_lexer": "ipython2",
   "version": "2.7.12"
  }
 },
 "nbformat": 4,
 "nbformat_minor": 1
}
