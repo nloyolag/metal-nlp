{
 "cells": [
  {
   "cell_type": "code",
   "execution_count": 1,
   "metadata": {
    "collapsed": false
   },
   "outputs": [],
   "source": [
    "import pandas as pd\n",
    "import re\n",
    "import json\n",
    "import itertools"
   ]
  },
  {
   "cell_type": "code",
   "execution_count": 2,
   "metadata": {
    "collapsed": false
   },
   "outputs": [],
   "source": [
    "# Create filename of fragmented dataset saved in json files\n",
    "filename = \"items.json\"\n",
    "path = \"darklyrics/\"\n",
    "file_prefixes = ['af', 'gi', 'j', 'k', 'l', 'm', 'nv', 'w', 'x', 'y', 'z', 'no']\n",
    "filenames = [path + prefix + filename for prefix in file_prefixes]"
   ]
  },
  {
   "cell_type": "code",
   "execution_count": 3,
   "metadata": {
    "collapsed": false
   },
   "outputs": [
    {
     "data": {
      "text/html": [
       "<div>\n",
       "<table border=\"1\" class=\"dataframe\">\n",
       "  <thead>\n",
       "    <tr style=\"text-align: right;\">\n",
       "      <th></th>\n",
       "      <th>album</th>\n",
       "      <th>artist</th>\n",
       "      <th>lyrics</th>\n",
       "      <th>name</th>\n",
       "      <th>year</th>\n",
       "    </tr>\n",
       "  </thead>\n",
       "  <tbody>\n",
       "    <tr>\n",
       "      <th>0</th>\n",
       "      <td>Dissolve Into Nothingness</td>\n",
       "      <td>angara damana</td>\n",
       "      <td>[]</td>\n",
       "      <td>Exordium</td>\n",
       "      <td>2012</td>\n",
       "    </tr>\n",
       "    <tr>\n",
       "      <th>1</th>\n",
       "      <td>Dissolve Into Nothingness</td>\n",
       "      <td>angara damana</td>\n",
       "      <td>[]</td>\n",
       "      <td>Koma Tragedy</td>\n",
       "      <td>2012</td>\n",
       "    </tr>\n",
       "    <tr>\n",
       "      <th>2</th>\n",
       "      <td>Dissolve Into Nothingness</td>\n",
       "      <td>angara damana</td>\n",
       "      <td>[]</td>\n",
       "      <td>Salvation In Destruction</td>\n",
       "      <td>2012</td>\n",
       "    </tr>\n",
       "    <tr>\n",
       "      <th>3</th>\n",
       "      <td>Dissolve Into Nothingness</td>\n",
       "      <td>angara damana</td>\n",
       "      <td>[Hopeless time Everything Falls Ideas Died One...</td>\n",
       "      <td>Blind Sheep</td>\n",
       "      <td>2012</td>\n",
       "    </tr>\n",
       "    <tr>\n",
       "      <th>4</th>\n",
       "      <td>Dissolve Into Nothingness</td>\n",
       "      <td>angara damana</td>\n",
       "      <td>[Somewhere Near An Empty Space, Where The Inau...</td>\n",
       "      <td>A New Age Of Darkness And Blood</td>\n",
       "      <td>2012</td>\n",
       "    </tr>\n",
       "  </tbody>\n",
       "</table>\n",
       "</div>"
      ],
      "text/plain": [
       "                       album         artist  \\\n",
       "0  Dissolve Into Nothingness  angara damana   \n",
       "1  Dissolve Into Nothingness  angara damana   \n",
       "2  Dissolve Into Nothingness  angara damana   \n",
       "3  Dissolve Into Nothingness  angara damana   \n",
       "4  Dissolve Into Nothingness  angara damana   \n",
       "\n",
       "                                              lyrics  \\\n",
       "0                                                 []   \n",
       "1                                                 []   \n",
       "2                                                 []   \n",
       "3  [Hopeless time Everything Falls Ideas Died One...   \n",
       "4  [Somewhere Near An Empty Space, Where The Inau...   \n",
       "\n",
       "                              name  year  \n",
       "0                         Exordium  2012  \n",
       "1                     Koma Tragedy  2012  \n",
       "2         Salvation In Destruction  2012  \n",
       "3                      Blind Sheep  2012  \n",
       "4  A New Age Of Darkness And Blood  2012  "
      ]
     },
     "execution_count": 3,
     "metadata": {},
     "output_type": "execute_result"
    }
   ],
   "source": [
    "# Read json files and append them into a single dataframe\n",
    "dfs = []\n",
    "for filename in filenames:\n",
    "    dfs.append(pd.read_json(filename))\n",
    "df = pd.concat(dfs)\n",
    "df.head()\n"
   ]
  },
  {
   "cell_type": "code",
   "execution_count": 4,
   "metadata": {
    "collapsed": false,
    "scrolled": true
   },
   "outputs": [
    {
     "name": "stdout",
     "output_type": "stream",
     "text": [
      "<class 'pandas.core.frame.DataFrame'>\n",
      "Int64Index: 238046 entries, 0 to 941\n",
      "Data columns (total 5 columns):\n",
      "album     238046 non-null object\n",
      "artist    238046 non-null object\n",
      "lyrics    238046 non-null object\n",
      "name      238046 non-null object\n",
      "year      238046 non-null int64\n",
      "dtypes: int64(1), object(4)\n",
      "memory usage: 10.9+ MB\n"
     ]
    }
   ],
   "source": [
    "# Get statistics on loaded dataset\n",
    "df.describe()\n",
    "df.info()"
   ]
  },
  {
   "cell_type": "code",
   "execution_count": 5,
   "metadata": {
    "collapsed": false
   },
   "outputs": [],
   "source": [
    "# Save dataset in pickle file\n",
    "df.to_pickle(\"darklyrics/lyrics.pkl\")"
   ]
  }
 ],
 "metadata": {
  "kernelspec": {
   "display_name": "Python 2",
   "language": "python",
   "name": "python2"
  },
  "language_info": {
   "codemirror_mode": {
    "name": "ipython",
    "version": 2
   },
   "file_extension": ".py",
   "mimetype": "text/x-python",
   "name": "python",
   "nbconvert_exporter": "python",
   "pygments_lexer": "ipython2",
   "version": "2.7.12"
  }
 },
 "nbformat": 4,
 "nbformat_minor": 1
}
